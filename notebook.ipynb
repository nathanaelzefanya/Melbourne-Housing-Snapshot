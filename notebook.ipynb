{
 "cells": [
  {
   "cell_type": "markdown",
   "id": "9101ea54",
   "metadata": {},
   "source": [
    "# 1. Introduction\n",
    "\n"
   ]
  },
  {
   "cell_type": "markdown",
   "id": "c6e66d8d",
   "metadata": {},
   "source": [
    "### Objective\n",
    "\n",
    "Project ini bertujuan untuk membuat model Machine Learning yang dapat untuk memprediksi harga properti di Melbourne, Australia dengan menggunakan data historis penjualan di tahun 2016.\n",
    "\n",
    "### Latar Belakang\n",
    "\n",
    "Properti merupakan salah satu bidang yang paling berpengaruh dalam kehidupan manusia. Kita menggunakan properti untuk berbagai kebutuhan, seperti tempat tinggal, tempat berusaha, pembuatan fasilitas umum, dan lain sebagainya. Setiap properti memiliki nilai jual yang bergantung pada fungsi bangunan, luas tanah dan bangunan, lokasi, fasilitas yang tersedia, infrastruktur sekitar lokasi, dan sebagainya. Dengan banyaknya kriteria tersebut, para pembeli / investor, saya mendapat permintaan untuk membuat sebuah metode untuk melakukan prediksi harga properti / bangunan di Melbourne, Australia untuk dapat digunakan oleh User dari seluruh kalangan, baik untuk masyarakat umum, agen Real Estate, ataupun pihak lainnya seperti investor dan developer properti. Data yang digunakan adalah data asli mengenai harga properti di Melbourne, Australia pada tahun 2016."
   ]
  },
  {
   "cell_type": "markdown",
   "id": "bbdaad5c",
   "metadata": {},
   "source": [
    "### Website\n",
    "\n",
    "Machine Learning dapat diakses pada website https://huggingface.co/spaces/nathanzefanya/melbourne-housing-snapshot-dataset"
   ]
  },
  {
   "cell_type": "markdown",
   "id": "2a376bbb",
   "metadata": {},
   "source": [
    "### Sumber Dataset\n",
    "\n",
    "Dataset diambil dari https://www.kaggle.com/datasets/dansbecker/melbourne-housing-snapshot mengenai harga properti di Melbourne, Australia pada tahun 2016."
   ]
  },
  {
   "cell_type": "markdown",
   "id": "521b3f6a",
   "metadata": {},
   "source": [
    "# 2. Import Libraries"
   ]
  },
  {
   "cell_type": "code",
   "execution_count": 151,
   "id": "a18226b4",
   "metadata": {},
   "outputs": [],
   "source": [
    "# Import library untuk pengolahan dan manipulasi data\n",
    "import pandas as pd\n",
    "import numpy as np\n",
    "from scipy import stats\n",
    "\n",
    "# Import library visualisasi data\n",
    "import matplotlib.pyplot as plt\n",
    "import seaborn as sns\n",
    "\n",
    "# Import library feature engineering dan preprocessing\n",
    "from sklearn.model_selection import train_test_split, KFold, cross_val_score,RandomizedSearchCV, GridSearchCV\n",
    "from sklearn.preprocessing import StandardScaler, OneHotEncoder\n",
    "from sklearn.compose import ColumnTransformer\n",
    "from sklearn.pipeline import Pipeline\n",
    "from feature_engine.outliers import Winsorizer\n",
    "\n",
    "# Import library evaluasi model\n",
    "from sklearn.metrics import root_mean_squared_error, mean_absolute_error, mean_squared_error, r2_score\n",
    "\n",
    "# Import library model regresi\n",
    "from sklearn.neighbors import KNeighborsRegressor\n",
    "from sklearn.svm import SVR\n",
    "from sklearn.tree import DecisionTreeRegressor\n",
    "from sklearn.ensemble import RandomForestRegressor, GradientBoostingRegressor\n",
    "\n",
    "# Import library untuk korelasi Phi-K\n",
    "import phik\n",
    "\n",
    "# Import library untuk menyimpan model, scaler, dan encoder\n",
    "import joblib\n",
    "import pickle\n",
    "import json\n",
    "\n",
    "# Import untuk menghilangkan warnings\n",
    "import warnings\n",
    "warnings.filterwarnings('ignore')\n",
    "\n",
    "# Set random seed \n",
    "np.random.seed(5)"
   ]
  },
  {
   "cell_type": "markdown",
   "id": "900afe90",
   "metadata": {},
   "source": [
    "# 3. Data Loading"
   ]
  },
  {
   "cell_type": "markdown",
   "id": "76e9c766",
   "metadata": {},
   "source": [
    "Dalam project kali ini, kita akan menggunakan dataset harga properti di Melbourne, Australia pada tahun 2016."
   ]
  },
  {
   "cell_type": "code",
   "execution_count": 83,
   "id": "0f686349",
   "metadata": {},
   "outputs": [
    {
     "data": {
      "text/html": [
       "<div>\n",
       "<style scoped>\n",
       "    .dataframe tbody tr th:only-of-type {\n",
       "        vertical-align: middle;\n",
       "    }\n",
       "\n",
       "    .dataframe tbody tr th {\n",
       "        vertical-align: top;\n",
       "    }\n",
       "\n",
       "    .dataframe thead th {\n",
       "        text-align: right;\n",
       "    }\n",
       "</style>\n",
       "<table border=\"1\" class=\"dataframe\">\n",
       "  <thead>\n",
       "    <tr style=\"text-align: right;\">\n",
       "      <th></th>\n",
       "      <th>Suburb</th>\n",
       "      <th>Address</th>\n",
       "      <th>Rooms</th>\n",
       "      <th>Type</th>\n",
       "      <th>Price</th>\n",
       "      <th>Method</th>\n",
       "      <th>SellerG</th>\n",
       "      <th>Date</th>\n",
       "      <th>Distance</th>\n",
       "      <th>Postcode</th>\n",
       "      <th>...</th>\n",
       "      <th>Bathroom</th>\n",
       "      <th>Car</th>\n",
       "      <th>Landsize</th>\n",
       "      <th>BuildingArea</th>\n",
       "      <th>YearBuilt</th>\n",
       "      <th>CouncilArea</th>\n",
       "      <th>Lattitude</th>\n",
       "      <th>Longtitude</th>\n",
       "      <th>Regionname</th>\n",
       "      <th>Propertycount</th>\n",
       "    </tr>\n",
       "  </thead>\n",
       "  <tbody>\n",
       "    <tr>\n",
       "      <th>0</th>\n",
       "      <td>Abbotsford</td>\n",
       "      <td>85 Turner St</td>\n",
       "      <td>2</td>\n",
       "      <td>h</td>\n",
       "      <td>1480000.0</td>\n",
       "      <td>S</td>\n",
       "      <td>Biggin</td>\n",
       "      <td>3/12/2016</td>\n",
       "      <td>2.5</td>\n",
       "      <td>3067.0</td>\n",
       "      <td>...</td>\n",
       "      <td>1.0</td>\n",
       "      <td>1.0</td>\n",
       "      <td>202.0</td>\n",
       "      <td>NaN</td>\n",
       "      <td>NaN</td>\n",
       "      <td>Yarra</td>\n",
       "      <td>-37.79960</td>\n",
       "      <td>144.99840</td>\n",
       "      <td>Northern Metropolitan</td>\n",
       "      <td>4019.0</td>\n",
       "    </tr>\n",
       "    <tr>\n",
       "      <th>1</th>\n",
       "      <td>Abbotsford</td>\n",
       "      <td>25 Bloomburg St</td>\n",
       "      <td>2</td>\n",
       "      <td>h</td>\n",
       "      <td>1035000.0</td>\n",
       "      <td>S</td>\n",
       "      <td>Biggin</td>\n",
       "      <td>4/02/2016</td>\n",
       "      <td>2.5</td>\n",
       "      <td>3067.0</td>\n",
       "      <td>...</td>\n",
       "      <td>1.0</td>\n",
       "      <td>0.0</td>\n",
       "      <td>156.0</td>\n",
       "      <td>79.0</td>\n",
       "      <td>1900.0</td>\n",
       "      <td>Yarra</td>\n",
       "      <td>-37.80790</td>\n",
       "      <td>144.99340</td>\n",
       "      <td>Northern Metropolitan</td>\n",
       "      <td>4019.0</td>\n",
       "    </tr>\n",
       "    <tr>\n",
       "      <th>2</th>\n",
       "      <td>Abbotsford</td>\n",
       "      <td>5 Charles St</td>\n",
       "      <td>3</td>\n",
       "      <td>h</td>\n",
       "      <td>1465000.0</td>\n",
       "      <td>SP</td>\n",
       "      <td>Biggin</td>\n",
       "      <td>4/03/2017</td>\n",
       "      <td>2.5</td>\n",
       "      <td>3067.0</td>\n",
       "      <td>...</td>\n",
       "      <td>2.0</td>\n",
       "      <td>0.0</td>\n",
       "      <td>134.0</td>\n",
       "      <td>150.0</td>\n",
       "      <td>1900.0</td>\n",
       "      <td>Yarra</td>\n",
       "      <td>-37.80930</td>\n",
       "      <td>144.99440</td>\n",
       "      <td>Northern Metropolitan</td>\n",
       "      <td>4019.0</td>\n",
       "    </tr>\n",
       "    <tr>\n",
       "      <th>3</th>\n",
       "      <td>Abbotsford</td>\n",
       "      <td>40 Federation La</td>\n",
       "      <td>3</td>\n",
       "      <td>h</td>\n",
       "      <td>850000.0</td>\n",
       "      <td>PI</td>\n",
       "      <td>Biggin</td>\n",
       "      <td>4/03/2017</td>\n",
       "      <td>2.5</td>\n",
       "      <td>3067.0</td>\n",
       "      <td>...</td>\n",
       "      <td>2.0</td>\n",
       "      <td>1.0</td>\n",
       "      <td>94.0</td>\n",
       "      <td>NaN</td>\n",
       "      <td>NaN</td>\n",
       "      <td>Yarra</td>\n",
       "      <td>-37.79690</td>\n",
       "      <td>144.99690</td>\n",
       "      <td>Northern Metropolitan</td>\n",
       "      <td>4019.0</td>\n",
       "    </tr>\n",
       "    <tr>\n",
       "      <th>4</th>\n",
       "      <td>Abbotsford</td>\n",
       "      <td>55a Park St</td>\n",
       "      <td>4</td>\n",
       "      <td>h</td>\n",
       "      <td>1600000.0</td>\n",
       "      <td>VB</td>\n",
       "      <td>Nelson</td>\n",
       "      <td>4/06/2016</td>\n",
       "      <td>2.5</td>\n",
       "      <td>3067.0</td>\n",
       "      <td>...</td>\n",
       "      <td>1.0</td>\n",
       "      <td>2.0</td>\n",
       "      <td>120.0</td>\n",
       "      <td>142.0</td>\n",
       "      <td>2014.0</td>\n",
       "      <td>Yarra</td>\n",
       "      <td>-37.80720</td>\n",
       "      <td>144.99410</td>\n",
       "      <td>Northern Metropolitan</td>\n",
       "      <td>4019.0</td>\n",
       "    </tr>\n",
       "    <tr>\n",
       "      <th>...</th>\n",
       "      <td>...</td>\n",
       "      <td>...</td>\n",
       "      <td>...</td>\n",
       "      <td>...</td>\n",
       "      <td>...</td>\n",
       "      <td>...</td>\n",
       "      <td>...</td>\n",
       "      <td>...</td>\n",
       "      <td>...</td>\n",
       "      <td>...</td>\n",
       "      <td>...</td>\n",
       "      <td>...</td>\n",
       "      <td>...</td>\n",
       "      <td>...</td>\n",
       "      <td>...</td>\n",
       "      <td>...</td>\n",
       "      <td>...</td>\n",
       "      <td>...</td>\n",
       "      <td>...</td>\n",
       "      <td>...</td>\n",
       "      <td>...</td>\n",
       "    </tr>\n",
       "    <tr>\n",
       "      <th>13575</th>\n",
       "      <td>Wheelers Hill</td>\n",
       "      <td>12 Strada Cr</td>\n",
       "      <td>4</td>\n",
       "      <td>h</td>\n",
       "      <td>1245000.0</td>\n",
       "      <td>S</td>\n",
       "      <td>Barry</td>\n",
       "      <td>26/08/2017</td>\n",
       "      <td>16.7</td>\n",
       "      <td>3150.0</td>\n",
       "      <td>...</td>\n",
       "      <td>2.0</td>\n",
       "      <td>2.0</td>\n",
       "      <td>652.0</td>\n",
       "      <td>NaN</td>\n",
       "      <td>1981.0</td>\n",
       "      <td>NaN</td>\n",
       "      <td>-37.90562</td>\n",
       "      <td>145.16761</td>\n",
       "      <td>South-Eastern Metropolitan</td>\n",
       "      <td>7392.0</td>\n",
       "    </tr>\n",
       "    <tr>\n",
       "      <th>13576</th>\n",
       "      <td>Williamstown</td>\n",
       "      <td>77 Merrett Dr</td>\n",
       "      <td>3</td>\n",
       "      <td>h</td>\n",
       "      <td>1031000.0</td>\n",
       "      <td>SP</td>\n",
       "      <td>Williams</td>\n",
       "      <td>26/08/2017</td>\n",
       "      <td>6.8</td>\n",
       "      <td>3016.0</td>\n",
       "      <td>...</td>\n",
       "      <td>2.0</td>\n",
       "      <td>2.0</td>\n",
       "      <td>333.0</td>\n",
       "      <td>133.0</td>\n",
       "      <td>1995.0</td>\n",
       "      <td>NaN</td>\n",
       "      <td>-37.85927</td>\n",
       "      <td>144.87904</td>\n",
       "      <td>Western Metropolitan</td>\n",
       "      <td>6380.0</td>\n",
       "    </tr>\n",
       "    <tr>\n",
       "      <th>13577</th>\n",
       "      <td>Williamstown</td>\n",
       "      <td>83 Power St</td>\n",
       "      <td>3</td>\n",
       "      <td>h</td>\n",
       "      <td>1170000.0</td>\n",
       "      <td>S</td>\n",
       "      <td>Raine</td>\n",
       "      <td>26/08/2017</td>\n",
       "      <td>6.8</td>\n",
       "      <td>3016.0</td>\n",
       "      <td>...</td>\n",
       "      <td>2.0</td>\n",
       "      <td>4.0</td>\n",
       "      <td>436.0</td>\n",
       "      <td>NaN</td>\n",
       "      <td>1997.0</td>\n",
       "      <td>NaN</td>\n",
       "      <td>-37.85274</td>\n",
       "      <td>144.88738</td>\n",
       "      <td>Western Metropolitan</td>\n",
       "      <td>6380.0</td>\n",
       "    </tr>\n",
       "    <tr>\n",
       "      <th>13578</th>\n",
       "      <td>Williamstown</td>\n",
       "      <td>96 Verdon St</td>\n",
       "      <td>4</td>\n",
       "      <td>h</td>\n",
       "      <td>2500000.0</td>\n",
       "      <td>PI</td>\n",
       "      <td>Sweeney</td>\n",
       "      <td>26/08/2017</td>\n",
       "      <td>6.8</td>\n",
       "      <td>3016.0</td>\n",
       "      <td>...</td>\n",
       "      <td>1.0</td>\n",
       "      <td>5.0</td>\n",
       "      <td>866.0</td>\n",
       "      <td>157.0</td>\n",
       "      <td>1920.0</td>\n",
       "      <td>NaN</td>\n",
       "      <td>-37.85908</td>\n",
       "      <td>144.89299</td>\n",
       "      <td>Western Metropolitan</td>\n",
       "      <td>6380.0</td>\n",
       "    </tr>\n",
       "    <tr>\n",
       "      <th>13579</th>\n",
       "      <td>Yarraville</td>\n",
       "      <td>6 Agnes St</td>\n",
       "      <td>4</td>\n",
       "      <td>h</td>\n",
       "      <td>1285000.0</td>\n",
       "      <td>SP</td>\n",
       "      <td>Village</td>\n",
       "      <td>26/08/2017</td>\n",
       "      <td>6.3</td>\n",
       "      <td>3013.0</td>\n",
       "      <td>...</td>\n",
       "      <td>1.0</td>\n",
       "      <td>1.0</td>\n",
       "      <td>362.0</td>\n",
       "      <td>112.0</td>\n",
       "      <td>1920.0</td>\n",
       "      <td>NaN</td>\n",
       "      <td>-37.81188</td>\n",
       "      <td>144.88449</td>\n",
       "      <td>Western Metropolitan</td>\n",
       "      <td>6543.0</td>\n",
       "    </tr>\n",
       "  </tbody>\n",
       "</table>\n",
       "<p>13580 rows × 21 columns</p>\n",
       "</div>"
      ],
      "text/plain": [
       "              Suburb           Address  Rooms Type      Price Method  \\\n",
       "0         Abbotsford      85 Turner St      2    h  1480000.0      S   \n",
       "1         Abbotsford   25 Bloomburg St      2    h  1035000.0      S   \n",
       "2         Abbotsford      5 Charles St      3    h  1465000.0     SP   \n",
       "3         Abbotsford  40 Federation La      3    h   850000.0     PI   \n",
       "4         Abbotsford       55a Park St      4    h  1600000.0     VB   \n",
       "...              ...               ...    ...  ...        ...    ...   \n",
       "13575  Wheelers Hill      12 Strada Cr      4    h  1245000.0      S   \n",
       "13576   Williamstown     77 Merrett Dr      3    h  1031000.0     SP   \n",
       "13577   Williamstown       83 Power St      3    h  1170000.0      S   \n",
       "13578   Williamstown      96 Verdon St      4    h  2500000.0     PI   \n",
       "13579     Yarraville        6 Agnes St      4    h  1285000.0     SP   \n",
       "\n",
       "        SellerG        Date  Distance  Postcode  ...  Bathroom  Car  Landsize  \\\n",
       "0        Biggin   3/12/2016       2.5    3067.0  ...       1.0  1.0     202.0   \n",
       "1        Biggin   4/02/2016       2.5    3067.0  ...       1.0  0.0     156.0   \n",
       "2        Biggin   4/03/2017       2.5    3067.0  ...       2.0  0.0     134.0   \n",
       "3        Biggin   4/03/2017       2.5    3067.0  ...       2.0  1.0      94.0   \n",
       "4        Nelson   4/06/2016       2.5    3067.0  ...       1.0  2.0     120.0   \n",
       "...         ...         ...       ...       ...  ...       ...  ...       ...   \n",
       "13575     Barry  26/08/2017      16.7    3150.0  ...       2.0  2.0     652.0   \n",
       "13576  Williams  26/08/2017       6.8    3016.0  ...       2.0  2.0     333.0   \n",
       "13577     Raine  26/08/2017       6.8    3016.0  ...       2.0  4.0     436.0   \n",
       "13578   Sweeney  26/08/2017       6.8    3016.0  ...       1.0  5.0     866.0   \n",
       "13579   Village  26/08/2017       6.3    3013.0  ...       1.0  1.0     362.0   \n",
       "\n",
       "       BuildingArea  YearBuilt  CouncilArea Lattitude  Longtitude  \\\n",
       "0               NaN        NaN        Yarra -37.79960   144.99840   \n",
       "1              79.0     1900.0        Yarra -37.80790   144.99340   \n",
       "2             150.0     1900.0        Yarra -37.80930   144.99440   \n",
       "3               NaN        NaN        Yarra -37.79690   144.99690   \n",
       "4             142.0     2014.0        Yarra -37.80720   144.99410   \n",
       "...             ...        ...          ...       ...         ...   \n",
       "13575           NaN     1981.0          NaN -37.90562   145.16761   \n",
       "13576         133.0     1995.0          NaN -37.85927   144.87904   \n",
       "13577           NaN     1997.0          NaN -37.85274   144.88738   \n",
       "13578         157.0     1920.0          NaN -37.85908   144.89299   \n",
       "13579         112.0     1920.0          NaN -37.81188   144.88449   \n",
       "\n",
       "                       Regionname Propertycount  \n",
       "0           Northern Metropolitan        4019.0  \n",
       "1           Northern Metropolitan        4019.0  \n",
       "2           Northern Metropolitan        4019.0  \n",
       "3           Northern Metropolitan        4019.0  \n",
       "4           Northern Metropolitan        4019.0  \n",
       "...                           ...           ...  \n",
       "13575  South-Eastern Metropolitan        7392.0  \n",
       "13576        Western Metropolitan        6380.0  \n",
       "13577        Western Metropolitan        6380.0  \n",
       "13578        Western Metropolitan        6380.0  \n",
       "13579        Western Metropolitan        6543.0  \n",
       "\n",
       "[13580 rows x 21 columns]"
      ]
     },
     "execution_count": 83,
     "metadata": {},
     "output_type": "execute_result"
    }
   ],
   "source": [
    "# Melakukan loading dataset\n",
    "df_ori = pd.read_csv('P1M2_nathanael.csv')\n",
    "\n",
    "# Menampilkan dataset\n",
    "df_ori"
   ]
  },
  {
   "cell_type": "code",
   "execution_count": 84,
   "id": "aa91623e",
   "metadata": {},
   "outputs": [
    {
     "data": {
      "text/html": [
       "<div>\n",
       "<style scoped>\n",
       "    .dataframe tbody tr th:only-of-type {\n",
       "        vertical-align: middle;\n",
       "    }\n",
       "\n",
       "    .dataframe tbody tr th {\n",
       "        vertical-align: top;\n",
       "    }\n",
       "\n",
       "    .dataframe thead th {\n",
       "        text-align: right;\n",
       "    }\n",
       "</style>\n",
       "<table border=\"1\" class=\"dataframe\">\n",
       "  <thead>\n",
       "    <tr style=\"text-align: right;\">\n",
       "      <th></th>\n",
       "      <th>Suburb</th>\n",
       "      <th>Address</th>\n",
       "      <th>Rooms</th>\n",
       "      <th>Type</th>\n",
       "      <th>Price</th>\n",
       "      <th>Method</th>\n",
       "      <th>SellerG</th>\n",
       "      <th>Date</th>\n",
       "      <th>Distance</th>\n",
       "      <th>Postcode</th>\n",
       "      <th>...</th>\n",
       "      <th>Bathroom</th>\n",
       "      <th>Car</th>\n",
       "      <th>Landsize</th>\n",
       "      <th>BuildingArea</th>\n",
       "      <th>YearBuilt</th>\n",
       "      <th>CouncilArea</th>\n",
       "      <th>Lattitude</th>\n",
       "      <th>Longtitude</th>\n",
       "      <th>Regionname</th>\n",
       "      <th>Propertycount</th>\n",
       "    </tr>\n",
       "  </thead>\n",
       "  <tbody>\n",
       "    <tr>\n",
       "      <th>0</th>\n",
       "      <td>Abbotsford</td>\n",
       "      <td>85 Turner St</td>\n",
       "      <td>2</td>\n",
       "      <td>h</td>\n",
       "      <td>1480000.0</td>\n",
       "      <td>S</td>\n",
       "      <td>Biggin</td>\n",
       "      <td>3/12/2016</td>\n",
       "      <td>2.5</td>\n",
       "      <td>3067.0</td>\n",
       "      <td>...</td>\n",
       "      <td>1.0</td>\n",
       "      <td>1.0</td>\n",
       "      <td>202.0</td>\n",
       "      <td>NaN</td>\n",
       "      <td>NaN</td>\n",
       "      <td>Yarra</td>\n",
       "      <td>-37.7996</td>\n",
       "      <td>144.9984</td>\n",
       "      <td>Northern Metropolitan</td>\n",
       "      <td>4019.0</td>\n",
       "    </tr>\n",
       "    <tr>\n",
       "      <th>1</th>\n",
       "      <td>Abbotsford</td>\n",
       "      <td>25 Bloomburg St</td>\n",
       "      <td>2</td>\n",
       "      <td>h</td>\n",
       "      <td>1035000.0</td>\n",
       "      <td>S</td>\n",
       "      <td>Biggin</td>\n",
       "      <td>4/02/2016</td>\n",
       "      <td>2.5</td>\n",
       "      <td>3067.0</td>\n",
       "      <td>...</td>\n",
       "      <td>1.0</td>\n",
       "      <td>0.0</td>\n",
       "      <td>156.0</td>\n",
       "      <td>79.0</td>\n",
       "      <td>1900.0</td>\n",
       "      <td>Yarra</td>\n",
       "      <td>-37.8079</td>\n",
       "      <td>144.9934</td>\n",
       "      <td>Northern Metropolitan</td>\n",
       "      <td>4019.0</td>\n",
       "    </tr>\n",
       "    <tr>\n",
       "      <th>2</th>\n",
       "      <td>Abbotsford</td>\n",
       "      <td>5 Charles St</td>\n",
       "      <td>3</td>\n",
       "      <td>h</td>\n",
       "      <td>1465000.0</td>\n",
       "      <td>SP</td>\n",
       "      <td>Biggin</td>\n",
       "      <td>4/03/2017</td>\n",
       "      <td>2.5</td>\n",
       "      <td>3067.0</td>\n",
       "      <td>...</td>\n",
       "      <td>2.0</td>\n",
       "      <td>0.0</td>\n",
       "      <td>134.0</td>\n",
       "      <td>150.0</td>\n",
       "      <td>1900.0</td>\n",
       "      <td>Yarra</td>\n",
       "      <td>-37.8093</td>\n",
       "      <td>144.9944</td>\n",
       "      <td>Northern Metropolitan</td>\n",
       "      <td>4019.0</td>\n",
       "    </tr>\n",
       "    <tr>\n",
       "      <th>3</th>\n",
       "      <td>Abbotsford</td>\n",
       "      <td>40 Federation La</td>\n",
       "      <td>3</td>\n",
       "      <td>h</td>\n",
       "      <td>850000.0</td>\n",
       "      <td>PI</td>\n",
       "      <td>Biggin</td>\n",
       "      <td>4/03/2017</td>\n",
       "      <td>2.5</td>\n",
       "      <td>3067.0</td>\n",
       "      <td>...</td>\n",
       "      <td>2.0</td>\n",
       "      <td>1.0</td>\n",
       "      <td>94.0</td>\n",
       "      <td>NaN</td>\n",
       "      <td>NaN</td>\n",
       "      <td>Yarra</td>\n",
       "      <td>-37.7969</td>\n",
       "      <td>144.9969</td>\n",
       "      <td>Northern Metropolitan</td>\n",
       "      <td>4019.0</td>\n",
       "    </tr>\n",
       "    <tr>\n",
       "      <th>4</th>\n",
       "      <td>Abbotsford</td>\n",
       "      <td>55a Park St</td>\n",
       "      <td>4</td>\n",
       "      <td>h</td>\n",
       "      <td>1600000.0</td>\n",
       "      <td>VB</td>\n",
       "      <td>Nelson</td>\n",
       "      <td>4/06/2016</td>\n",
       "      <td>2.5</td>\n",
       "      <td>3067.0</td>\n",
       "      <td>...</td>\n",
       "      <td>1.0</td>\n",
       "      <td>2.0</td>\n",
       "      <td>120.0</td>\n",
       "      <td>142.0</td>\n",
       "      <td>2014.0</td>\n",
       "      <td>Yarra</td>\n",
       "      <td>-37.8072</td>\n",
       "      <td>144.9941</td>\n",
       "      <td>Northern Metropolitan</td>\n",
       "      <td>4019.0</td>\n",
       "    </tr>\n",
       "    <tr>\n",
       "      <th>5</th>\n",
       "      <td>Abbotsford</td>\n",
       "      <td>129 Charles St</td>\n",
       "      <td>2</td>\n",
       "      <td>h</td>\n",
       "      <td>941000.0</td>\n",
       "      <td>S</td>\n",
       "      <td>Jellis</td>\n",
       "      <td>7/05/2016</td>\n",
       "      <td>2.5</td>\n",
       "      <td>3067.0</td>\n",
       "      <td>...</td>\n",
       "      <td>1.0</td>\n",
       "      <td>0.0</td>\n",
       "      <td>181.0</td>\n",
       "      <td>NaN</td>\n",
       "      <td>NaN</td>\n",
       "      <td>Yarra</td>\n",
       "      <td>-37.8041</td>\n",
       "      <td>144.9953</td>\n",
       "      <td>Northern Metropolitan</td>\n",
       "      <td>4019.0</td>\n",
       "    </tr>\n",
       "    <tr>\n",
       "      <th>6</th>\n",
       "      <td>Abbotsford</td>\n",
       "      <td>124 Yarra St</td>\n",
       "      <td>3</td>\n",
       "      <td>h</td>\n",
       "      <td>1876000.0</td>\n",
       "      <td>S</td>\n",
       "      <td>Nelson</td>\n",
       "      <td>7/05/2016</td>\n",
       "      <td>2.5</td>\n",
       "      <td>3067.0</td>\n",
       "      <td>...</td>\n",
       "      <td>2.0</td>\n",
       "      <td>0.0</td>\n",
       "      <td>245.0</td>\n",
       "      <td>210.0</td>\n",
       "      <td>1910.0</td>\n",
       "      <td>Yarra</td>\n",
       "      <td>-37.8024</td>\n",
       "      <td>144.9993</td>\n",
       "      <td>Northern Metropolitan</td>\n",
       "      <td>4019.0</td>\n",
       "    </tr>\n",
       "    <tr>\n",
       "      <th>7</th>\n",
       "      <td>Abbotsford</td>\n",
       "      <td>98 Charles St</td>\n",
       "      <td>2</td>\n",
       "      <td>h</td>\n",
       "      <td>1636000.0</td>\n",
       "      <td>S</td>\n",
       "      <td>Nelson</td>\n",
       "      <td>8/10/2016</td>\n",
       "      <td>2.5</td>\n",
       "      <td>3067.0</td>\n",
       "      <td>...</td>\n",
       "      <td>1.0</td>\n",
       "      <td>2.0</td>\n",
       "      <td>256.0</td>\n",
       "      <td>107.0</td>\n",
       "      <td>1890.0</td>\n",
       "      <td>Yarra</td>\n",
       "      <td>-37.8060</td>\n",
       "      <td>144.9954</td>\n",
       "      <td>Northern Metropolitan</td>\n",
       "      <td>4019.0</td>\n",
       "    </tr>\n",
       "    <tr>\n",
       "      <th>8</th>\n",
       "      <td>Abbotsford</td>\n",
       "      <td>6/241 Nicholson St</td>\n",
       "      <td>1</td>\n",
       "      <td>u</td>\n",
       "      <td>300000.0</td>\n",
       "      <td>S</td>\n",
       "      <td>Biggin</td>\n",
       "      <td>8/10/2016</td>\n",
       "      <td>2.5</td>\n",
       "      <td>3067.0</td>\n",
       "      <td>...</td>\n",
       "      <td>1.0</td>\n",
       "      <td>1.0</td>\n",
       "      <td>0.0</td>\n",
       "      <td>NaN</td>\n",
       "      <td>NaN</td>\n",
       "      <td>Yarra</td>\n",
       "      <td>-37.8008</td>\n",
       "      <td>144.9973</td>\n",
       "      <td>Northern Metropolitan</td>\n",
       "      <td>4019.0</td>\n",
       "    </tr>\n",
       "    <tr>\n",
       "      <th>9</th>\n",
       "      <td>Abbotsford</td>\n",
       "      <td>10 Valiant St</td>\n",
       "      <td>2</td>\n",
       "      <td>h</td>\n",
       "      <td>1097000.0</td>\n",
       "      <td>S</td>\n",
       "      <td>Biggin</td>\n",
       "      <td>8/10/2016</td>\n",
       "      <td>2.5</td>\n",
       "      <td>3067.0</td>\n",
       "      <td>...</td>\n",
       "      <td>1.0</td>\n",
       "      <td>2.0</td>\n",
       "      <td>220.0</td>\n",
       "      <td>75.0</td>\n",
       "      <td>1900.0</td>\n",
       "      <td>Yarra</td>\n",
       "      <td>-37.8010</td>\n",
       "      <td>144.9989</td>\n",
       "      <td>Northern Metropolitan</td>\n",
       "      <td>4019.0</td>\n",
       "    </tr>\n",
       "  </tbody>\n",
       "</table>\n",
       "<p>10 rows × 21 columns</p>\n",
       "</div>"
      ],
      "text/plain": [
       "       Suburb             Address  Rooms Type      Price Method SellerG  \\\n",
       "0  Abbotsford        85 Turner St      2    h  1480000.0      S  Biggin   \n",
       "1  Abbotsford     25 Bloomburg St      2    h  1035000.0      S  Biggin   \n",
       "2  Abbotsford        5 Charles St      3    h  1465000.0     SP  Biggin   \n",
       "3  Abbotsford    40 Federation La      3    h   850000.0     PI  Biggin   \n",
       "4  Abbotsford         55a Park St      4    h  1600000.0     VB  Nelson   \n",
       "5  Abbotsford      129 Charles St      2    h   941000.0      S  Jellis   \n",
       "6  Abbotsford        124 Yarra St      3    h  1876000.0      S  Nelson   \n",
       "7  Abbotsford       98 Charles St      2    h  1636000.0      S  Nelson   \n",
       "8  Abbotsford  6/241 Nicholson St      1    u   300000.0      S  Biggin   \n",
       "9  Abbotsford       10 Valiant St      2    h  1097000.0      S  Biggin   \n",
       "\n",
       "        Date  Distance  Postcode  ...  Bathroom  Car  Landsize  BuildingArea  \\\n",
       "0  3/12/2016       2.5    3067.0  ...       1.0  1.0     202.0           NaN   \n",
       "1  4/02/2016       2.5    3067.0  ...       1.0  0.0     156.0          79.0   \n",
       "2  4/03/2017       2.5    3067.0  ...       2.0  0.0     134.0         150.0   \n",
       "3  4/03/2017       2.5    3067.0  ...       2.0  1.0      94.0           NaN   \n",
       "4  4/06/2016       2.5    3067.0  ...       1.0  2.0     120.0         142.0   \n",
       "5  7/05/2016       2.5    3067.0  ...       1.0  0.0     181.0           NaN   \n",
       "6  7/05/2016       2.5    3067.0  ...       2.0  0.0     245.0         210.0   \n",
       "7  8/10/2016       2.5    3067.0  ...       1.0  2.0     256.0         107.0   \n",
       "8  8/10/2016       2.5    3067.0  ...       1.0  1.0       0.0           NaN   \n",
       "9  8/10/2016       2.5    3067.0  ...       1.0  2.0     220.0          75.0   \n",
       "\n",
       "   YearBuilt  CouncilArea Lattitude  Longtitude             Regionname  \\\n",
       "0        NaN        Yarra  -37.7996    144.9984  Northern Metropolitan   \n",
       "1     1900.0        Yarra  -37.8079    144.9934  Northern Metropolitan   \n",
       "2     1900.0        Yarra  -37.8093    144.9944  Northern Metropolitan   \n",
       "3        NaN        Yarra  -37.7969    144.9969  Northern Metropolitan   \n",
       "4     2014.0        Yarra  -37.8072    144.9941  Northern Metropolitan   \n",
       "5        NaN        Yarra  -37.8041    144.9953  Northern Metropolitan   \n",
       "6     1910.0        Yarra  -37.8024    144.9993  Northern Metropolitan   \n",
       "7     1890.0        Yarra  -37.8060    144.9954  Northern Metropolitan   \n",
       "8        NaN        Yarra  -37.8008    144.9973  Northern Metropolitan   \n",
       "9     1900.0        Yarra  -37.8010    144.9989  Northern Metropolitan   \n",
       "\n",
       "  Propertycount  \n",
       "0        4019.0  \n",
       "1        4019.0  \n",
       "2        4019.0  \n",
       "3        4019.0  \n",
       "4        4019.0  \n",
       "5        4019.0  \n",
       "6        4019.0  \n",
       "7        4019.0  \n",
       "8        4019.0  \n",
       "9        4019.0  \n",
       "\n",
       "[10 rows x 21 columns]"
      ]
     },
     "execution_count": 84,
     "metadata": {},
     "output_type": "execute_result"
    }
   ],
   "source": [
    "# Menampilkan 10 data teratas\n",
    "df_ori.head(10)"
   ]
  },
  {
   "cell_type": "code",
   "execution_count": 85,
   "id": "9dfc8cd0",
   "metadata": {},
   "outputs": [
    {
     "data": {
      "text/html": [
       "<div>\n",
       "<style scoped>\n",
       "    .dataframe tbody tr th:only-of-type {\n",
       "        vertical-align: middle;\n",
       "    }\n",
       "\n",
       "    .dataframe tbody tr th {\n",
       "        vertical-align: top;\n",
       "    }\n",
       "\n",
       "    .dataframe thead th {\n",
       "        text-align: right;\n",
       "    }\n",
       "</style>\n",
       "<table border=\"1\" class=\"dataframe\">\n",
       "  <thead>\n",
       "    <tr style=\"text-align: right;\">\n",
       "      <th></th>\n",
       "      <th>Suburb</th>\n",
       "      <th>Address</th>\n",
       "      <th>Rooms</th>\n",
       "      <th>Type</th>\n",
       "      <th>Price</th>\n",
       "      <th>Method</th>\n",
       "      <th>SellerG</th>\n",
       "      <th>Date</th>\n",
       "      <th>Distance</th>\n",
       "      <th>Postcode</th>\n",
       "      <th>...</th>\n",
       "      <th>Bathroom</th>\n",
       "      <th>Car</th>\n",
       "      <th>Landsize</th>\n",
       "      <th>BuildingArea</th>\n",
       "      <th>YearBuilt</th>\n",
       "      <th>CouncilArea</th>\n",
       "      <th>Lattitude</th>\n",
       "      <th>Longtitude</th>\n",
       "      <th>Regionname</th>\n",
       "      <th>Propertycount</th>\n",
       "    </tr>\n",
       "  </thead>\n",
       "  <tbody>\n",
       "    <tr>\n",
       "      <th>13570</th>\n",
       "      <td>Wantirna South</td>\n",
       "      <td>34 Fewster Dr</td>\n",
       "      <td>3</td>\n",
       "      <td>h</td>\n",
       "      <td>970000.0</td>\n",
       "      <td>S</td>\n",
       "      <td>Barry</td>\n",
       "      <td>26/08/2017</td>\n",
       "      <td>14.7</td>\n",
       "      <td>3152.0</td>\n",
       "      <td>...</td>\n",
       "      <td>2.0</td>\n",
       "      <td>2.0</td>\n",
       "      <td>674.0</td>\n",
       "      <td>NaN</td>\n",
       "      <td>NaN</td>\n",
       "      <td>NaN</td>\n",
       "      <td>-37.88360</td>\n",
       "      <td>145.22805</td>\n",
       "      <td>Eastern Metropolitan</td>\n",
       "      <td>7082.0</td>\n",
       "    </tr>\n",
       "    <tr>\n",
       "      <th>13571</th>\n",
       "      <td>Wantirna South</td>\n",
       "      <td>15 Mara Cl</td>\n",
       "      <td>4</td>\n",
       "      <td>h</td>\n",
       "      <td>1330000.0</td>\n",
       "      <td>S</td>\n",
       "      <td>Barry</td>\n",
       "      <td>26/08/2017</td>\n",
       "      <td>14.7</td>\n",
       "      <td>3152.0</td>\n",
       "      <td>...</td>\n",
       "      <td>2.0</td>\n",
       "      <td>2.0</td>\n",
       "      <td>717.0</td>\n",
       "      <td>191.0</td>\n",
       "      <td>1980.0</td>\n",
       "      <td>NaN</td>\n",
       "      <td>-37.86887</td>\n",
       "      <td>145.22116</td>\n",
       "      <td>Eastern Metropolitan</td>\n",
       "      <td>7082.0</td>\n",
       "    </tr>\n",
       "    <tr>\n",
       "      <th>13572</th>\n",
       "      <td>Watsonia</td>\n",
       "      <td>76 Kenmare St</td>\n",
       "      <td>2</td>\n",
       "      <td>h</td>\n",
       "      <td>650000.0</td>\n",
       "      <td>PI</td>\n",
       "      <td>Morrison</td>\n",
       "      <td>26/08/2017</td>\n",
       "      <td>14.5</td>\n",
       "      <td>3087.0</td>\n",
       "      <td>...</td>\n",
       "      <td>1.0</td>\n",
       "      <td>1.0</td>\n",
       "      <td>210.0</td>\n",
       "      <td>79.0</td>\n",
       "      <td>2006.0</td>\n",
       "      <td>NaN</td>\n",
       "      <td>-37.70657</td>\n",
       "      <td>145.07878</td>\n",
       "      <td>Northern Metropolitan</td>\n",
       "      <td>2329.0</td>\n",
       "    </tr>\n",
       "    <tr>\n",
       "      <th>13573</th>\n",
       "      <td>Werribee</td>\n",
       "      <td>5 Nuragi Ct</td>\n",
       "      <td>4</td>\n",
       "      <td>h</td>\n",
       "      <td>635000.0</td>\n",
       "      <td>S</td>\n",
       "      <td>hockingstuart</td>\n",
       "      <td>26/08/2017</td>\n",
       "      <td>14.7</td>\n",
       "      <td>3030.0</td>\n",
       "      <td>...</td>\n",
       "      <td>2.0</td>\n",
       "      <td>1.0</td>\n",
       "      <td>662.0</td>\n",
       "      <td>172.0</td>\n",
       "      <td>1980.0</td>\n",
       "      <td>NaN</td>\n",
       "      <td>-37.89327</td>\n",
       "      <td>144.64789</td>\n",
       "      <td>Western Metropolitan</td>\n",
       "      <td>16166.0</td>\n",
       "    </tr>\n",
       "    <tr>\n",
       "      <th>13574</th>\n",
       "      <td>Westmeadows</td>\n",
       "      <td>9 Black St</td>\n",
       "      <td>3</td>\n",
       "      <td>h</td>\n",
       "      <td>582000.0</td>\n",
       "      <td>S</td>\n",
       "      <td>Red</td>\n",
       "      <td>26/08/2017</td>\n",
       "      <td>16.5</td>\n",
       "      <td>3049.0</td>\n",
       "      <td>...</td>\n",
       "      <td>2.0</td>\n",
       "      <td>2.0</td>\n",
       "      <td>256.0</td>\n",
       "      <td>NaN</td>\n",
       "      <td>NaN</td>\n",
       "      <td>NaN</td>\n",
       "      <td>-37.67917</td>\n",
       "      <td>144.89390</td>\n",
       "      <td>Northern Metropolitan</td>\n",
       "      <td>2474.0</td>\n",
       "    </tr>\n",
       "    <tr>\n",
       "      <th>13575</th>\n",
       "      <td>Wheelers Hill</td>\n",
       "      <td>12 Strada Cr</td>\n",
       "      <td>4</td>\n",
       "      <td>h</td>\n",
       "      <td>1245000.0</td>\n",
       "      <td>S</td>\n",
       "      <td>Barry</td>\n",
       "      <td>26/08/2017</td>\n",
       "      <td>16.7</td>\n",
       "      <td>3150.0</td>\n",
       "      <td>...</td>\n",
       "      <td>2.0</td>\n",
       "      <td>2.0</td>\n",
       "      <td>652.0</td>\n",
       "      <td>NaN</td>\n",
       "      <td>1981.0</td>\n",
       "      <td>NaN</td>\n",
       "      <td>-37.90562</td>\n",
       "      <td>145.16761</td>\n",
       "      <td>South-Eastern Metropolitan</td>\n",
       "      <td>7392.0</td>\n",
       "    </tr>\n",
       "    <tr>\n",
       "      <th>13576</th>\n",
       "      <td>Williamstown</td>\n",
       "      <td>77 Merrett Dr</td>\n",
       "      <td>3</td>\n",
       "      <td>h</td>\n",
       "      <td>1031000.0</td>\n",
       "      <td>SP</td>\n",
       "      <td>Williams</td>\n",
       "      <td>26/08/2017</td>\n",
       "      <td>6.8</td>\n",
       "      <td>3016.0</td>\n",
       "      <td>...</td>\n",
       "      <td>2.0</td>\n",
       "      <td>2.0</td>\n",
       "      <td>333.0</td>\n",
       "      <td>133.0</td>\n",
       "      <td>1995.0</td>\n",
       "      <td>NaN</td>\n",
       "      <td>-37.85927</td>\n",
       "      <td>144.87904</td>\n",
       "      <td>Western Metropolitan</td>\n",
       "      <td>6380.0</td>\n",
       "    </tr>\n",
       "    <tr>\n",
       "      <th>13577</th>\n",
       "      <td>Williamstown</td>\n",
       "      <td>83 Power St</td>\n",
       "      <td>3</td>\n",
       "      <td>h</td>\n",
       "      <td>1170000.0</td>\n",
       "      <td>S</td>\n",
       "      <td>Raine</td>\n",
       "      <td>26/08/2017</td>\n",
       "      <td>6.8</td>\n",
       "      <td>3016.0</td>\n",
       "      <td>...</td>\n",
       "      <td>2.0</td>\n",
       "      <td>4.0</td>\n",
       "      <td>436.0</td>\n",
       "      <td>NaN</td>\n",
       "      <td>1997.0</td>\n",
       "      <td>NaN</td>\n",
       "      <td>-37.85274</td>\n",
       "      <td>144.88738</td>\n",
       "      <td>Western Metropolitan</td>\n",
       "      <td>6380.0</td>\n",
       "    </tr>\n",
       "    <tr>\n",
       "      <th>13578</th>\n",
       "      <td>Williamstown</td>\n",
       "      <td>96 Verdon St</td>\n",
       "      <td>4</td>\n",
       "      <td>h</td>\n",
       "      <td>2500000.0</td>\n",
       "      <td>PI</td>\n",
       "      <td>Sweeney</td>\n",
       "      <td>26/08/2017</td>\n",
       "      <td>6.8</td>\n",
       "      <td>3016.0</td>\n",
       "      <td>...</td>\n",
       "      <td>1.0</td>\n",
       "      <td>5.0</td>\n",
       "      <td>866.0</td>\n",
       "      <td>157.0</td>\n",
       "      <td>1920.0</td>\n",
       "      <td>NaN</td>\n",
       "      <td>-37.85908</td>\n",
       "      <td>144.89299</td>\n",
       "      <td>Western Metropolitan</td>\n",
       "      <td>6380.0</td>\n",
       "    </tr>\n",
       "    <tr>\n",
       "      <th>13579</th>\n",
       "      <td>Yarraville</td>\n",
       "      <td>6 Agnes St</td>\n",
       "      <td>4</td>\n",
       "      <td>h</td>\n",
       "      <td>1285000.0</td>\n",
       "      <td>SP</td>\n",
       "      <td>Village</td>\n",
       "      <td>26/08/2017</td>\n",
       "      <td>6.3</td>\n",
       "      <td>3013.0</td>\n",
       "      <td>...</td>\n",
       "      <td>1.0</td>\n",
       "      <td>1.0</td>\n",
       "      <td>362.0</td>\n",
       "      <td>112.0</td>\n",
       "      <td>1920.0</td>\n",
       "      <td>NaN</td>\n",
       "      <td>-37.81188</td>\n",
       "      <td>144.88449</td>\n",
       "      <td>Western Metropolitan</td>\n",
       "      <td>6543.0</td>\n",
       "    </tr>\n",
       "  </tbody>\n",
       "</table>\n",
       "<p>10 rows × 21 columns</p>\n",
       "</div>"
      ],
      "text/plain": [
       "               Suburb        Address  Rooms Type      Price Method  \\\n",
       "13570  Wantirna South  34 Fewster Dr      3    h   970000.0      S   \n",
       "13571  Wantirna South     15 Mara Cl      4    h  1330000.0      S   \n",
       "13572        Watsonia  76 Kenmare St      2    h   650000.0     PI   \n",
       "13573        Werribee    5 Nuragi Ct      4    h   635000.0      S   \n",
       "13574     Westmeadows     9 Black St      3    h   582000.0      S   \n",
       "13575   Wheelers Hill   12 Strada Cr      4    h  1245000.0      S   \n",
       "13576    Williamstown  77 Merrett Dr      3    h  1031000.0     SP   \n",
       "13577    Williamstown    83 Power St      3    h  1170000.0      S   \n",
       "13578    Williamstown   96 Verdon St      4    h  2500000.0     PI   \n",
       "13579      Yarraville     6 Agnes St      4    h  1285000.0     SP   \n",
       "\n",
       "             SellerG        Date  Distance  Postcode  ...  Bathroom  Car  \\\n",
       "13570          Barry  26/08/2017      14.7    3152.0  ...       2.0  2.0   \n",
       "13571          Barry  26/08/2017      14.7    3152.0  ...       2.0  2.0   \n",
       "13572       Morrison  26/08/2017      14.5    3087.0  ...       1.0  1.0   \n",
       "13573  hockingstuart  26/08/2017      14.7    3030.0  ...       2.0  1.0   \n",
       "13574            Red  26/08/2017      16.5    3049.0  ...       2.0  2.0   \n",
       "13575          Barry  26/08/2017      16.7    3150.0  ...       2.0  2.0   \n",
       "13576       Williams  26/08/2017       6.8    3016.0  ...       2.0  2.0   \n",
       "13577          Raine  26/08/2017       6.8    3016.0  ...       2.0  4.0   \n",
       "13578        Sweeney  26/08/2017       6.8    3016.0  ...       1.0  5.0   \n",
       "13579        Village  26/08/2017       6.3    3013.0  ...       1.0  1.0   \n",
       "\n",
       "       Landsize  BuildingArea  YearBuilt  CouncilArea Lattitude  Longtitude  \\\n",
       "13570     674.0           NaN        NaN          NaN -37.88360   145.22805   \n",
       "13571     717.0         191.0     1980.0          NaN -37.86887   145.22116   \n",
       "13572     210.0          79.0     2006.0          NaN -37.70657   145.07878   \n",
       "13573     662.0         172.0     1980.0          NaN -37.89327   144.64789   \n",
       "13574     256.0           NaN        NaN          NaN -37.67917   144.89390   \n",
       "13575     652.0           NaN     1981.0          NaN -37.90562   145.16761   \n",
       "13576     333.0         133.0     1995.0          NaN -37.85927   144.87904   \n",
       "13577     436.0           NaN     1997.0          NaN -37.85274   144.88738   \n",
       "13578     866.0         157.0     1920.0          NaN -37.85908   144.89299   \n",
       "13579     362.0         112.0     1920.0          NaN -37.81188   144.88449   \n",
       "\n",
       "                       Regionname Propertycount  \n",
       "13570        Eastern Metropolitan        7082.0  \n",
       "13571        Eastern Metropolitan        7082.0  \n",
       "13572       Northern Metropolitan        2329.0  \n",
       "13573        Western Metropolitan       16166.0  \n",
       "13574       Northern Metropolitan        2474.0  \n",
       "13575  South-Eastern Metropolitan        7392.0  \n",
       "13576        Western Metropolitan        6380.0  \n",
       "13577        Western Metropolitan        6380.0  \n",
       "13578        Western Metropolitan        6380.0  \n",
       "13579        Western Metropolitan        6543.0  \n",
       "\n",
       "[10 rows x 21 columns]"
      ]
     },
     "execution_count": 85,
     "metadata": {},
     "output_type": "execute_result"
    }
   ],
   "source": [
    "# Menampilkan 10 data terbawah\n",
    "df_ori.tail(10)"
   ]
  },
  {
   "cell_type": "markdown",
   "id": "855dd4ba",
   "metadata": {},
   "source": [
    "Dataset tersebut akan kita duplikasi untuk menjaga data asli dari perubahan yang tidak disengaja."
   ]
  },
  {
   "cell_type": "code",
   "execution_count": 86,
   "id": "78ab055c",
   "metadata": {},
   "outputs": [],
   "source": [
    "# Melakukan duplikasi dataset\n",
    "df = df_ori.copy()"
   ]
  },
  {
   "cell_type": "markdown",
   "id": "bd90ceb2",
   "metadata": {},
   "source": [
    "Selanjutnya, kita akan melakukan pengecekan data duplikasi."
   ]
  },
  {
   "cell_type": "code",
   "execution_count": 87,
   "id": "b85bb729",
   "metadata": {},
   "outputs": [
    {
     "data": {
      "text/plain": [
       "0"
      ]
     },
     "execution_count": 87,
     "metadata": {},
     "output_type": "execute_result"
    }
   ],
   "source": [
    "# Menampilkan jumlah data duplikasi\n",
    "df.duplicated().sum()"
   ]
  },
  {
   "cell_type": "markdown",
   "id": "b0070431",
   "metadata": {},
   "source": [
    "Tidak terdapat data yang terduplikasi pada dataset tersebut. Selanjutnya, kita akan melakukan pengecekan terhadap jumlah kolom, baris, serta tipe data masing-masing kolom."
   ]
  },
  {
   "cell_type": "code",
   "execution_count": 88,
   "id": "9ef1d571",
   "metadata": {},
   "outputs": [
    {
     "name": "stdout",
     "output_type": "stream",
     "text": [
      "<class 'pandas.core.frame.DataFrame'>\n",
      "RangeIndex: 13580 entries, 0 to 13579\n",
      "Data columns (total 21 columns):\n",
      " #   Column         Non-Null Count  Dtype  \n",
      "---  ------         --------------  -----  \n",
      " 0   Suburb         13580 non-null  object \n",
      " 1   Address        13580 non-null  object \n",
      " 2   Rooms          13580 non-null  int64  \n",
      " 3   Type           13580 non-null  object \n",
      " 4   Price          13580 non-null  float64\n",
      " 5   Method         13580 non-null  object \n",
      " 6   SellerG        13580 non-null  object \n",
      " 7   Date           13580 non-null  object \n",
      " 8   Distance       13580 non-null  float64\n",
      " 9   Postcode       13580 non-null  float64\n",
      " 10  Bedroom2       13580 non-null  float64\n",
      " 11  Bathroom       13580 non-null  float64\n",
      " 12  Car            13518 non-null  float64\n",
      " 13  Landsize       13580 non-null  float64\n",
      " 14  BuildingArea   7130 non-null   float64\n",
      " 15  YearBuilt      8205 non-null   float64\n",
      " 16  CouncilArea    12211 non-null  object \n",
      " 17  Lattitude      13580 non-null  float64\n",
      " 18  Longtitude     13580 non-null  float64\n",
      " 19  Regionname     13580 non-null  object \n",
      " 20  Propertycount  13580 non-null  float64\n",
      "dtypes: float64(12), int64(1), object(8)\n",
      "memory usage: 2.2+ MB\n"
     ]
    }
   ],
   "source": [
    "# Melihat informasi dataset\n",
    "df.info()"
   ]
  },
  {
   "cell_type": "markdown",
   "id": "905e2f92",
   "metadata": {},
   "source": [
    "Dari informasi tersebut, terdapat 21 kolom dan 13580 baris, di mana terdapat 1 kolom dengan tipe data integer, 12 kolom dengan tipe data float, serta 8 kolom dengan tipe data object. Berikut adalah penjelasan dari setiap kolom:\n",
    "\n",
    "| Column Name     | Description                                                                                                           |\n",
    "|------------------|-----------------------------------------------------------------------------------------------------------------------|\n",
    "| `Suburb`         | Nama wilayah atau lokasi                                                                |\n",
    "| `Address`        | Alamat lengkap                                                                                             |\n",
    "| `Rooms`          | Jumlah ruangan                                                                                       |\n",
    "| `Type`           | Jenis properti: h = house/cottage/villa/semi/terrace, u = unit/duplex, t = townhouse, dev site = development site, o-res = other residential |\n",
    "| `Price`          | Harga properti dalam dolar Australia (AUD)                                                                           |\n",
    "| `Method`         | Metode penjualan properti: S = terjual, SP = terjual sebelum lelang, PI = gagal terjual, PN/SN = harga tidak diumumkan, NB/VB = tidak ada penawaran/vendor bid, W = ditarik sebelum lelang, SA/SS = terjual setelah lelang |\n",
    "| `SellerG`        | Nama agen real estat / agen penjual                                                                          |\n",
    "| `Date`           | Tanggal penjualan properti                                                                    |\n",
    "| `Distance`       | Jarak properti dari Central Business District (CBD) Melbourne dalam satuan kilometer                                       |\n",
    "| `Postcode`       | Kode pos                                                                                            |\n",
    "| `Bedroom2`       | Jumlah kamar tidur (dari sumber alternatif)                                                                 |\n",
    "| `Bathroom`       | Jumlah kamar mandi                                                                                                   |\n",
    "| `Car`            | Jumlah tempat parkir mobil                                                                                           |\n",
    "| `Landsize`       | Luas tanah properti dalam meter persegi (m2)                                                                          |\n",
    "| `BuildingArea`   | Luas bangunan properti dalam meter persegi (m2)                                                                          |\n",
    "| `YearBuilt`      | Tahun properti dibangun                                                                                              |\n",
    "| `CouncilArea`    | Nama otoritas pemerintahan lokal                                                      |\n",
    "| `Lattitude`      | Koordinat lintang lokasi properti                                                                                    |\n",
    "| `Longtitude`     | Koordinat bujur lokasi properti                                                                                      |\n",
    "| `Regionname`     | Wilayah geografis umum                                                |\n",
    "| `Propertycount`  | Jumlah total properti yang terdapat di suburb / wilayah tersebut  \n",
    "\n",
    "Selanjutnya, kita akan melihat data analisis statistik dataset tersebut."
   ]
  },
  {
   "cell_type": "code",
   "execution_count": 89,
   "id": "6b3abf8b",
   "metadata": {},
   "outputs": [
    {
     "data": {
      "text/html": [
       "<div>\n",
       "<style scoped>\n",
       "    .dataframe tbody tr th:only-of-type {\n",
       "        vertical-align: middle;\n",
       "    }\n",
       "\n",
       "    .dataframe tbody tr th {\n",
       "        vertical-align: top;\n",
       "    }\n",
       "\n",
       "    .dataframe thead th {\n",
       "        text-align: right;\n",
       "    }\n",
       "</style>\n",
       "<table border=\"1\" class=\"dataframe\">\n",
       "  <thead>\n",
       "    <tr style=\"text-align: right;\">\n",
       "      <th></th>\n",
       "      <th>count</th>\n",
       "      <th>mean</th>\n",
       "      <th>std</th>\n",
       "      <th>min</th>\n",
       "      <th>25%</th>\n",
       "      <th>50%</th>\n",
       "      <th>75%</th>\n",
       "      <th>max</th>\n",
       "    </tr>\n",
       "  </thead>\n",
       "  <tbody>\n",
       "    <tr>\n",
       "      <th>Rooms</th>\n",
       "      <td>13580.0</td>\n",
       "      <td>2.937997e+00</td>\n",
       "      <td>0.955748</td>\n",
       "      <td>1.00000</td>\n",
       "      <td>2.000000</td>\n",
       "      <td>3.000000</td>\n",
       "      <td>3.000000e+00</td>\n",
       "      <td>1.000000e+01</td>\n",
       "    </tr>\n",
       "    <tr>\n",
       "      <th>Price</th>\n",
       "      <td>13580.0</td>\n",
       "      <td>1.075684e+06</td>\n",
       "      <td>639310.724296</td>\n",
       "      <td>85000.00000</td>\n",
       "      <td>650000.000000</td>\n",
       "      <td>903000.000000</td>\n",
       "      <td>1.330000e+06</td>\n",
       "      <td>9.000000e+06</td>\n",
       "    </tr>\n",
       "    <tr>\n",
       "      <th>Distance</th>\n",
       "      <td>13580.0</td>\n",
       "      <td>1.013778e+01</td>\n",
       "      <td>5.868725</td>\n",
       "      <td>0.00000</td>\n",
       "      <td>6.100000</td>\n",
       "      <td>9.200000</td>\n",
       "      <td>1.300000e+01</td>\n",
       "      <td>4.810000e+01</td>\n",
       "    </tr>\n",
       "    <tr>\n",
       "      <th>Postcode</th>\n",
       "      <td>13580.0</td>\n",
       "      <td>3.105302e+03</td>\n",
       "      <td>90.676964</td>\n",
       "      <td>3000.00000</td>\n",
       "      <td>3044.000000</td>\n",
       "      <td>3084.000000</td>\n",
       "      <td>3.148000e+03</td>\n",
       "      <td>3.977000e+03</td>\n",
       "    </tr>\n",
       "    <tr>\n",
       "      <th>Bedroom2</th>\n",
       "      <td>13580.0</td>\n",
       "      <td>2.914728e+00</td>\n",
       "      <td>0.965921</td>\n",
       "      <td>0.00000</td>\n",
       "      <td>2.000000</td>\n",
       "      <td>3.000000</td>\n",
       "      <td>3.000000e+00</td>\n",
       "      <td>2.000000e+01</td>\n",
       "    </tr>\n",
       "    <tr>\n",
       "      <th>Bathroom</th>\n",
       "      <td>13580.0</td>\n",
       "      <td>1.534242e+00</td>\n",
       "      <td>0.691712</td>\n",
       "      <td>0.00000</td>\n",
       "      <td>1.000000</td>\n",
       "      <td>1.000000</td>\n",
       "      <td>2.000000e+00</td>\n",
       "      <td>8.000000e+00</td>\n",
       "    </tr>\n",
       "    <tr>\n",
       "      <th>Car</th>\n",
       "      <td>13518.0</td>\n",
       "      <td>1.610075e+00</td>\n",
       "      <td>0.962634</td>\n",
       "      <td>0.00000</td>\n",
       "      <td>1.000000</td>\n",
       "      <td>2.000000</td>\n",
       "      <td>2.000000e+00</td>\n",
       "      <td>1.000000e+01</td>\n",
       "    </tr>\n",
       "    <tr>\n",
       "      <th>Landsize</th>\n",
       "      <td>13580.0</td>\n",
       "      <td>5.584161e+02</td>\n",
       "      <td>3990.669241</td>\n",
       "      <td>0.00000</td>\n",
       "      <td>177.000000</td>\n",
       "      <td>440.000000</td>\n",
       "      <td>6.510000e+02</td>\n",
       "      <td>4.330140e+05</td>\n",
       "    </tr>\n",
       "    <tr>\n",
       "      <th>BuildingArea</th>\n",
       "      <td>7130.0</td>\n",
       "      <td>1.519676e+02</td>\n",
       "      <td>541.014538</td>\n",
       "      <td>0.00000</td>\n",
       "      <td>93.000000</td>\n",
       "      <td>126.000000</td>\n",
       "      <td>1.740000e+02</td>\n",
       "      <td>4.451500e+04</td>\n",
       "    </tr>\n",
       "    <tr>\n",
       "      <th>YearBuilt</th>\n",
       "      <td>8205.0</td>\n",
       "      <td>1.964684e+03</td>\n",
       "      <td>37.273762</td>\n",
       "      <td>1196.00000</td>\n",
       "      <td>1940.000000</td>\n",
       "      <td>1970.000000</td>\n",
       "      <td>1.999000e+03</td>\n",
       "      <td>2.018000e+03</td>\n",
       "    </tr>\n",
       "    <tr>\n",
       "      <th>Lattitude</th>\n",
       "      <td>13580.0</td>\n",
       "      <td>-3.780920e+01</td>\n",
       "      <td>0.079260</td>\n",
       "      <td>-38.18255</td>\n",
       "      <td>-37.856822</td>\n",
       "      <td>-37.802355</td>\n",
       "      <td>-3.775640e+01</td>\n",
       "      <td>-3.740853e+01</td>\n",
       "    </tr>\n",
       "    <tr>\n",
       "      <th>Longtitude</th>\n",
       "      <td>13580.0</td>\n",
       "      <td>1.449952e+02</td>\n",
       "      <td>0.103916</td>\n",
       "      <td>144.43181</td>\n",
       "      <td>144.929600</td>\n",
       "      <td>145.000100</td>\n",
       "      <td>1.450583e+02</td>\n",
       "      <td>1.455264e+02</td>\n",
       "    </tr>\n",
       "    <tr>\n",
       "      <th>Propertycount</th>\n",
       "      <td>13580.0</td>\n",
       "      <td>7.454417e+03</td>\n",
       "      <td>4378.581772</td>\n",
       "      <td>249.00000</td>\n",
       "      <td>4380.000000</td>\n",
       "      <td>6555.000000</td>\n",
       "      <td>1.033100e+04</td>\n",
       "      <td>2.165000e+04</td>\n",
       "    </tr>\n",
       "  </tbody>\n",
       "</table>\n",
       "</div>"
      ],
      "text/plain": [
       "                 count          mean            std          min  \\\n",
       "Rooms          13580.0  2.937997e+00       0.955748      1.00000   \n",
       "Price          13580.0  1.075684e+06  639310.724296  85000.00000   \n",
       "Distance       13580.0  1.013778e+01       5.868725      0.00000   \n",
       "Postcode       13580.0  3.105302e+03      90.676964   3000.00000   \n",
       "Bedroom2       13580.0  2.914728e+00       0.965921      0.00000   \n",
       "Bathroom       13580.0  1.534242e+00       0.691712      0.00000   \n",
       "Car            13518.0  1.610075e+00       0.962634      0.00000   \n",
       "Landsize       13580.0  5.584161e+02    3990.669241      0.00000   \n",
       "BuildingArea    7130.0  1.519676e+02     541.014538      0.00000   \n",
       "YearBuilt       8205.0  1.964684e+03      37.273762   1196.00000   \n",
       "Lattitude      13580.0 -3.780920e+01       0.079260    -38.18255   \n",
       "Longtitude     13580.0  1.449952e+02       0.103916    144.43181   \n",
       "Propertycount  13580.0  7.454417e+03    4378.581772    249.00000   \n",
       "\n",
       "                         25%            50%           75%           max  \n",
       "Rooms               2.000000       3.000000  3.000000e+00  1.000000e+01  \n",
       "Price          650000.000000  903000.000000  1.330000e+06  9.000000e+06  \n",
       "Distance            6.100000       9.200000  1.300000e+01  4.810000e+01  \n",
       "Postcode         3044.000000    3084.000000  3.148000e+03  3.977000e+03  \n",
       "Bedroom2            2.000000       3.000000  3.000000e+00  2.000000e+01  \n",
       "Bathroom            1.000000       1.000000  2.000000e+00  8.000000e+00  \n",
       "Car                 1.000000       2.000000  2.000000e+00  1.000000e+01  \n",
       "Landsize          177.000000     440.000000  6.510000e+02  4.330140e+05  \n",
       "BuildingArea       93.000000     126.000000  1.740000e+02  4.451500e+04  \n",
       "YearBuilt        1940.000000    1970.000000  1.999000e+03  2.018000e+03  \n",
       "Lattitude         -37.856822     -37.802355 -3.775640e+01 -3.740853e+01  \n",
       "Longtitude        144.929600     145.000100  1.450583e+02  1.455264e+02  \n",
       "Propertycount    4380.000000    6555.000000  1.033100e+04  2.165000e+04  "
      ]
     },
     "execution_count": 89,
     "metadata": {},
     "output_type": "execute_result"
    }
   ],
   "source": [
    "# Menampilkan statistik dataset\n",
    "df.describe().T"
   ]
  },
  {
   "cell_type": "markdown",
   "id": "10655e38",
   "metadata": {},
   "source": [
    "Untuk memudahkan analisis, nama kolom akan disesuaikan."
   ]
  },
  {
   "cell_type": "code",
   "execution_count": 90,
   "id": "2aea8372",
   "metadata": {},
   "outputs": [
    {
     "data": {
      "text/plain": [
       "Index(['suburb', 'address', 'rooms', 'type', 'price', 'method', 'sellerg',\n",
       "       'date', 'distance', 'postcode', 'bedroom2', 'bathroom', 'car',\n",
       "       'landsize', 'buildingarea', 'yearbuilt', 'councilarea', 'lattitude',\n",
       "       'longtitude', 'regionname', 'propertycount'],\n",
       "      dtype='object')"
      ]
     },
     "execution_count": 90,
     "metadata": {},
     "output_type": "execute_result"
    }
   ],
   "source": [
    "# Menyesuaikan nama kolom dengan huruf kecil\n",
    "\n",
    "df.columns = df.columns.str.lower()\n",
    "\n",
    "# Menampilkan nama kolom\n",
    "df.columns"
   ]
  },
  {
   "cell_type": "markdown",
   "id": "3fb73b06",
   "metadata": {},
   "source": [
    "Kemudian, kita akan merubah nama kolom `car` menjadi `carports` karena data yang tersedia merupakan jumlah carports, bukan jumlah mobil. Kita juga akan memisahkan nama kolom dengan garis bawah agar lebih mudah dibaca.\n",
    "\n"
   ]
  },
  {
   "cell_type": "code",
   "execution_count": 91,
   "id": "c8aa7f1e",
   "metadata": {},
   "outputs": [
    {
     "data": {
      "text/plain": [
       "Index(['suburb', 'address', 'rooms', 'type', 'price', 'method', 'agent_name',\n",
       "       'date', 'distance', 'postcode', 'bedroom', 'bathroom', 'carport',\n",
       "       'land_size', 'building_area', 'year_built', 'council_area', 'lattitude',\n",
       "       'longitude', 'region_name', 'property_count'],\n",
       "      dtype='object')"
      ]
     },
     "execution_count": 91,
     "metadata": {},
     "output_type": "execute_result"
    }
   ],
   "source": [
    "# Merubah nama kolom\n",
    "df.rename(columns={\n",
    "    'sellerg': 'agent_name',\n",
    "    'bedroom2': 'bedroom',\n",
    "    'car': 'carport',\n",
    "    'landsize': 'land_size',\n",
    "    'buildingarea': 'building_area',\n",
    "    'yearbuilt': 'year_built',\n",
    "    'councilarea': 'council_area',\n",
    "    'regionname': 'region_name',\n",
    "    'longtitude': 'longitude',\n",
    "    'propertycount': 'property_count'\n",
    "}, inplace=True)\n",
    "\n",
    "# Menampilkan nama kolom\n",
    "df.columns"
   ]
  },
  {
   "cell_type": "markdown",
   "id": "ab316d3d",
   "metadata": {},
   "source": [
    "Setelah merapikan kolom, kita akan melakukan Exploratory Data Analysis."
   ]
  },
  {
   "cell_type": "markdown",
   "id": "d421a2a5",
   "metadata": {},
   "source": [
    "# 4. Exploratory Data Analysis"
   ]
  },
  {
   "cell_type": "markdown",
   "id": "647fe362",
   "metadata": {},
   "source": [
    "Pada bagian ini, kita akan melakukan beberapa analisis untuk mengetahui tipe dan distribusi data yang akan digunakan."
   ]
  },
  {
   "cell_type": "markdown",
   "id": "c56a0985",
   "metadata": {},
   "source": [
    "### 4.1. Distribusi Harga Properti\n",
    "\n",
    "Kita akan melihat distribusi harga properti di Melbourne, Australia."
   ]
  },
  {
   "cell_type": "code",
   "execution_count": 92,
   "id": "f3936b06",
   "metadata": {},
   "outputs": [
    {
     "data": {
      "text/plain": [
       "count    1.358000e+04\n",
       "mean     1.075684e+06\n",
       "std      6.393107e+05\n",
       "min      8.500000e+04\n",
       "25%      6.500000e+05\n",
       "50%      9.030000e+05\n",
       "75%      1.330000e+06\n",
       "max      9.000000e+06\n",
       "Name: price, dtype: float64"
      ]
     },
     "execution_count": 92,
     "metadata": {},
     "output_type": "execute_result"
    }
   ],
   "source": [
    "# Menampilkan distribusi data kolom harga\n",
    "df['price'].describe()"
   ]
  },
  {
   "cell_type": "markdown",
   "id": "04f8c752",
   "metadata": {},
   "source": [
    "Kemudian, kita akan melakukan pengecekan skewness dari data tersebut."
   ]
  },
  {
   "cell_type": "code",
   "execution_count": 93,
   "id": "fcc54da2",
   "metadata": {},
   "outputs": [
    {
     "name": "stdout",
     "output_type": "stream",
     "text": [
      "Skewness harga properti: 2.24\n"
     ]
    }
   ],
   "source": [
    "# Menghitung skew\n",
    "skew = df['price'].skew()\n",
    "print(f\"Skewness harga properti: {skew:.2f}\")"
   ]
  },
  {
   "cell_type": "markdown",
   "id": "61bb942a",
   "metadata": {},
   "source": [
    "Dari hasil perhitungan tersebut, diketahui bahwa skewness dari data tersebut adalah 2.24. Selanjutnya, kita akan mencoba melakukan visualisasi data dalam grafik."
   ]
  },
  {
   "cell_type": "code",
   "execution_count": 94,
   "id": "b98f2c2b",
   "metadata": {},
   "outputs": [
    {
     "data": {
      "image/png": "[encoded data removed]",
      "text/plain": [
       "<Figure size 640x480 with 1 Axes>"
      ]
     },
     "metadata": {},
     "output_type": "display_data"
    }
   ],
   "source": [
    "# Menampilkan visualisasi distribusi harga properti\n",
    "\n",
    "sns.histplot(df['price'], bins=20, kde=True)\n",
    "plt.title('Distribusi Harga Properti')\n",
    "plt.xlabel('Price')\n",
    "plt.ylabel('Count')\n",
    "plt.show()"
   ]
  },
  {
   "cell_type": "markdown",
   "id": "8d173175",
   "metadata": {},
   "source": [
    "Berdasarkan distribusi data dan hasil visualisasinya, kita mendapatkan informasi sebagai berikut:\n",
    "1. Dari hasil perhitungan skewness dan grafik yang tersedia, terlihat bahwa distribusi data positif ke kanan. Hal tersebut berarti sebagian besar harga properti yang dijual relatif rendah.\n",
    "2. Harga penjualan properti termahal adalah seharga $9.000.000 AUD . Penjualan ini dapat disebabkan oleh luas bangunan atau daerah tempat bangunan tersebut berada.\n",
    "3. Mayoritas properti yang terjual pada rentang harga $500.000 - $1.000.000 AUD."
   ]
  },
  {
   "cell_type": "markdown",
   "id": "adf8fc36",
   "metadata": {},
   "source": [
    "### 4.2. Perbandingan Jumlah dan Harga Berdasarkan Jenis Properti"
   ]
  },
  {
   "cell_type": "markdown",
   "id": "ae91e3a1",
   "metadata": {},
   "source": [
    "Selanjutnya, kita akan melakukan analisis harga berdasarkan jenis bangunan yang terjual. Kita akan melihat apa saja jenis properti yang tersedia dalam data."
   ]
  },
  {
   "cell_type": "code",
   "execution_count": 95,
   "id": "02a3684a",
   "metadata": {},
   "outputs": [
    {
     "data": {
      "text/plain": [
       "array(['h', 'u', 't'], dtype=object)"
      ]
     },
     "execution_count": 95,
     "metadata": {},
     "output_type": "execute_result"
    }
   ],
   "source": [
    "# Melihat jenis properti pada data\n",
    "df['type'].unique()"
   ]
  },
  {
   "cell_type": "markdown",
   "id": "40ab26fb",
   "metadata": {},
   "source": [
    "Pada dataset, terdapat tiga jenis properti yang dijual, yaitu:\n",
    "1. h = house/cottage/villa/semi/terrace \n",
    "2. u = unit/duplex\n",
    "3. t = townhouse"
   ]
  },
  {
   "cell_type": "markdown",
   "id": "533a6d50",
   "metadata": {},
   "source": [
    "Kemudian kita akan menghitung jumlah masing-masing tipe properrti yang telah terjual."
   ]
  },
  {
   "cell_type": "code",
   "execution_count": 96,
   "id": "171d109f",
   "metadata": {},
   "outputs": [
    {
     "data": {
      "text/plain": [
       "type\n",
       "h    9449\n",
       "u    3017\n",
       "t    1114\n",
       "Name: count, dtype: int64"
      ]
     },
     "execution_count": 96,
     "metadata": {},
     "output_type": "execute_result"
    }
   ],
   "source": [
    "# Menghitung jumlah properti per tipe\n",
    "df['type'].value_counts()"
   ]
  },
  {
   "cell_type": "markdown",
   "id": "5acfc21f",
   "metadata": {},
   "source": [
    "Kemudian kita akan melakukan perhitungan rata-rata harga per tipe properti. "
   ]
  },
  {
   "cell_type": "code",
   "execution_count": 97,
   "id": "d6459363",
   "metadata": {},
   "outputs": [
    {
     "name": "stdout",
     "output_type": "stream",
     "text": [
      "  type         price\n",
      "0    h  1.242665e+06\n",
      "1    t  9.337351e+05\n",
      "2    u  6.051275e+05\n"
     ]
    }
   ],
   "source": [
    "# Menghitung rata-rata harga per tipe properti\n",
    "avg_price_per_type = df.groupby('type')['price'].mean().reset_index()\n",
    "\n",
    "# Menampilkan hasil\n",
    "print(avg_price_per_type)"
   ]
  },
  {
   "cell_type": "markdown",
   "id": "e762bc31",
   "metadata": {},
   "source": [
    "Selanjutnya kita akan melakukan perbandingan harga dan jumlah ketiga jenis properti tersebut dalam bentuk grafik."
   ]
  },
  {
   "cell_type": "code",
   "execution_count": 98,
   "id": "d9be7c79",
   "metadata": {},
   "outputs": [
    {
     "data": {
      "image/png": "[encoded data removed]",
      "text/plain": [
       "<Figure size 1400x500 with 2 Axes>"
      ]
     },
     "metadata": {},
     "output_type": "display_data"
    }
   ],
   "source": [
    "# Membuat 2 jenis grafik dengan subplot \n",
    "fig, axes = plt.subplots(1, 2, figsize=(14, 5))\n",
    "\n",
    "# Menentukan urutan tipe\n",
    "type_order = ['h', 'u', 't']\n",
    "\n",
    "# Menentukan variabel jumlah tipe\n",
    "counts = df['type'].value_counts().reindex(type_order)\n",
    "\n",
    "# Membuat piechart jumlah properti per tipe\n",
    "axes[0].pie(\n",
    "    counts, \n",
    "    labels=counts.index, \n",
    "    autopct='%1.1f%%', \n",
    "    colors=[\"lightblue\", \"orange\", \"red\"], \n",
    "    startangle=90\n",
    ")\n",
    "axes[0].set_title('Distribusi Jumlah Properti per Tipe')\n",
    "axes[0].axis('equal')\n",
    "\n",
    "# Membuat grafik histogram harga rata-rata per tipe\n",
    "avg_price = df.groupby('type')['price'].mean().reset_index()\n",
    "sns.barplot(data=avg_price, x='type', y='price', order=type_order, palette='pastel', ax=axes[1])\n",
    "axes[1].set_title('Harga Rata-Rata per Tipe Properti')\n",
    "axes[1].set_xlabel('Type')\n",
    "axes[1].set_ylabel('Average Price')\n",
    "\n",
    "# Tampilkan kedua plot\n",
    "plt.tight_layout()\n",
    "plt.show()"
   ]
  },
  {
   "cell_type": "markdown",
   "id": "84c8e430",
   "metadata": {},
   "source": [
    "Dari seluruh grafik dan data di atas, kita mendapatkan informasi sebagai berikut:\n",
    "1. Properti yang paling banyak terjual adalah tipe 'h' dengan jumlah bangunan yang terjual adalah 9449 unit. Jumlah tersebut merupakan 69.6% dari total properti yang terjual. Sementara itu, properti dengan tipe 'u' terjual sebanyak 3017 unit atau sekitar 22,2% dari total penjualan properti, sedangkan penjualan properti terendah adalah tipe 't' adalah 1114 unit atau sekitar 8.2% dari keseluruhan properti yang terjual. \n",
    "2. Properti dengan tipe 'h' adalah properti dengan harga jual rata-rata tertinggi dibanding tipe lainnya, yaitu pada angka $1,242,665 AUD. Walaupun tipe 't' memiliki penjualan unit terendah, namun harga rata-rata penjualannya masih lebih tinggi dibanding tipe 'u', yaitu $933,735 AUD untuk tipe 't' dan $605,117 untuk tipe 'u'.\n"
   ]
  },
  {
   "cell_type": "markdown",
   "id": "ad54ef97",
   "metadata": {},
   "source": [
    "### 4.3. Metode Penjualan Properti"
   ]
  },
  {
   "cell_type": "markdown",
   "id": "340d9396",
   "metadata": {},
   "source": [
    "Pada bagian ini, kita akan melakukan analisis mengenai jenis metode penjualan properti pada setiap tipe."
   ]
  },
  {
   "cell_type": "code",
   "execution_count": 99,
   "id": "35a79c67",
   "metadata": {},
   "outputs": [
    {
     "data": {
      "text/plain": [
       "array(['S', 'SP', 'PI', 'VB', 'SA'], dtype=object)"
      ]
     },
     "execution_count": 99,
     "metadata": {},
     "output_type": "execute_result"
    }
   ],
   "source": [
    "# Jenis metode penjualan pada data\n",
    "df['method'].unique()"
   ]
  },
  {
   "cell_type": "markdown",
   "id": "0fc63e08",
   "metadata": {},
   "source": [
    "Metode penjualan yang tersedia pada dataset antara lain:\n",
    "\n",
    "S   = terjual \n",
    "\n",
    "SP  = terjual sebelum lelang \n",
    "\n",
    "PI  = gagal terjual\n",
    "\n",
    "VB  = vendor bid \n",
    "\n",
    "SA  = terjual setelah lelang"
   ]
  },
  {
   "cell_type": "code",
   "execution_count": 100,
   "id": "e6e84ab5",
   "metadata": {},
   "outputs": [
    {
     "data": {
      "text/plain": [
       "method\n",
       "S     9022\n",
       "SP    1703\n",
       "PI    1564\n",
       "VB    1199\n",
       "SA      92\n",
       "Name: count, dtype: int64"
      ]
     },
     "execution_count": 100,
     "metadata": {},
     "output_type": "execute_result"
    }
   ],
   "source": [
    "# Menghitung jumlah penjualan per metode\n",
    "df['method'].value_counts()"
   ]
  },
  {
   "cell_type": "markdown",
   "id": "0bfe60c9",
   "metadata": {},
   "source": [
    "Selanjutnya kita akan membuat visualisasi data penjualan properti berdasarkan metode penjualannya."
   ]
  },
  {
   "cell_type": "code",
   "execution_count": 101,
   "id": "b0bdea11",
   "metadata": {},
   "outputs": [
    {
     "data": {
      "image/png": "[encoded data removed]",
      "text/plain": [
       "<Figure size 640x480 with 1 Axes>"
      ]
     },
     "metadata": {},
     "output_type": "display_data"
    }
   ],
   "source": [
    "# Membuat visualisasi distribusi data sesuai metode penjualan dengan grafik\n",
    "sns.countplot(y='method', data=df)\n",
    "plt.title('Distribusi Metode Penjualan Properti')\n",
    "plt.xlabel('Jumlah Unit')\n",
    "plt.ylabel('Metode Penjualan')\n",
    "plt.show()"
   ]
  },
  {
   "cell_type": "markdown",
   "id": "73a993a5",
   "metadata": {},
   "source": [
    "Dari grafik dan data di atas, kita mendapatkan informasi sebagai berikut:\n",
    "1. Pada data yang digunakan, mayoritas properti (S) telah terjual dengan jumlah 9022 unit. Selain itu, terdapat 1703 unit properti yang terjual tanpa lelang dan 92 unit yang terjual setelah lelang.\n",
    "2. Terdapat properti yang belum terjual, di antaranya terdiri dari 1564 unit yang belum terjual (PI) dan 1199 unit yang telah dilakukan penawaran oleh penjual (VB).\n"
   ]
  },
  {
   "cell_type": "markdown",
   "id": "cbfc81c8",
   "metadata": {},
   "source": [
    "### 4.4. Harga Properti Per Wilayah"
   ]
  },
  {
   "cell_type": "markdown",
   "id": "7b9fc0aa",
   "metadata": {},
   "source": [
    "Pada bagian ini, kita akan melakukan analisis terhadap harga properti berdasarkan wilayah yang diambil dari kolom  `region_name`."
   ]
  },
  {
   "cell_type": "code",
   "execution_count": 102,
   "id": "81a020fe",
   "metadata": {},
   "outputs": [
    {
     "data": {
      "text/plain": [
       "array(['Northern Metropolitan', 'Western Metropolitan',\n",
       "       'Southern Metropolitan', 'Eastern Metropolitan',\n",
       "       'South-Eastern Metropolitan', 'Eastern Victoria',\n",
       "       'Northern Victoria', 'Western Victoria'], dtype=object)"
      ]
     },
     "execution_count": 102,
     "metadata": {},
     "output_type": "execute_result"
    }
   ],
   "source": [
    "# Melihat daftar region pada data\n",
    "df['region_name'].unique()"
   ]
  },
  {
   "cell_type": "markdown",
   "id": "e8191703",
   "metadata": {},
   "source": [
    "Terdapat 8 wilayah penjualan properti yang akan kita hitung rata-rata penjualan per wilayahnya."
   ]
  },
  {
   "cell_type": "code",
   "execution_count": 103,
   "id": "5f80a863",
   "metadata": {},
   "outputs": [
    {
     "data": {
      "image/png": "[encoded data removed]",
      "text/plain": [
       "<Figure size 1000x600 with 1 Axes>"
      ]
     },
     "metadata": {},
     "output_type": "display_data"
    },
    {
     "name": "stdout",
     "output_type": "stream",
     "text": [
      "                  region_name         price\n",
      "1       Southern Metropolitan  1.372963e+06\n",
      "2        Eastern Metropolitan  1.104080e+06\n",
      "3  South-Eastern Metropolitan  9.229438e+05\n"
     ]
    }
   ],
   "source": [
    "# Membuat variabel rata-rata harga per region\n",
    "avg_region_price = df.groupby('region_name')['price'].mean().sort_values(ascending=False)\n",
    "\n",
    "# Membuat visualisasi data\n",
    "plt.figure(figsize=(10, 6))\n",
    "sns.barplot(x=avg_region_price.values, y=avg_region_price.index)\n",
    "plt.title('Rata-rata Harga Properti per Region')\n",
    "plt.xlabel('Harga Rata-rata')\n",
    "plt.ylabel('Region')\n",
    "plt.show()\n",
    "\n",
    "# Menghitung rata-rata harga per region\n",
    "avg_price_per_region = df.groupby('region_name')['price'].mean().reset_index()\n",
    "\n",
    "# Membuat variabel untuk mengambil top 3 region dengan harga tertinggi\n",
    "top3_region = avg_price_per_region.sort_values(by='price', ascending=False).head(3).reset_index(drop=True)\n",
    "\n",
    "# Reset index\n",
    "top3_region.index = top3_region.index + 1\n",
    "\n",
    "# Menampilkan hasil\n",
    "print(top3_region)"
   ]
  },
  {
   "cell_type": "markdown",
   "id": "70e0eb36",
   "metadata": {},
   "source": [
    "Dari grafik tersebut, kita mendapatkan informasi sebagai berikut:\n",
    "1. Wilayah geografis dengan rata-rata harga unit properti termahal adalah Southern Metropolitan dengan rata-rata harga unitnya sebesar $1.372.963 AUD, diikuti oleh Eastern Metropolitan dan South-Eastern Metropolitan dengan masing-masing rata-rata harga sebesar $1.104.080 AUD dan $922.944 AUD.\n",
    "2. Wilayah geografis dengan rata-rata harga unit properti termurah berada pada Western Victoria, yaitu sekitar $400.000 AUD per unit"
   ]
  },
  {
   "cell_type": "markdown",
   "id": "a16d1f74",
   "metadata": {},
   "source": [
    "### 4.5. Pengaruh Jumlah Ruangan terhadap Harga Properti"
   ]
  },
  {
   "cell_type": "markdown",
   "id": "bf263e2b",
   "metadata": {},
   "source": [
    "Pada bagian ini, kita akan melihat pengaruh banyaknya jumlah ruangan terhadap harga properti."
   ]
  },
  {
   "cell_type": "code",
   "execution_count": 104,
   "id": "0caf0477",
   "metadata": {},
   "outputs": [
    {
     "data": {
      "image/png": "[encoded data removed]",
      "text/plain": [
       "<Figure size 1200x800 with 1 Axes>"
      ]
     },
     "metadata": {},
     "output_type": "display_data"
    }
   ],
   "source": [
    "# Menghitung  rata-rata harga per jumlah kamar (kolom 'room')\n",
    "avg_price_by_room = df.groupby('rooms')['price'].mean().reset_index()\n",
    "\n",
    "# Urutkan berdasarkan jumlah kamar supaya garis plot rapi\n",
    "avg_price_by_room = avg_price_by_room.sort_values('rooms')\n",
    "\n",
    "# Plot line plot\n",
    "plt.figure(figsize=(12,8))\n",
    "sns.lineplot(data=avg_price_by_room, x='rooms', y='price', marker='o')\n",
    "plt.title('Pengaruh Jumlah Ruangan terhadap Harga Properti')\n",
    "plt.xlabel('Jumlah Ruangan')\n",
    "plt.ylabel('Harga Rata-rata (dalam juta AUD)')\n",
    "plt.grid(True)\n",
    "plt.show()"
   ]
  },
  {
   "cell_type": "markdown",
   "id": "849823ef",
   "metadata": {},
   "source": [
    "Dari grafik tersebut, kita mendapat informasi sebagai berikut:\n",
    "1. Semakin banyak ruangan yang dimiliki sebuah unit properti, tidak menjamin kenaikan harga jual unit tersebut. Rata-rata penjualan tertinggi berada pada unit properti yang terdiri dari 7 ruangan. \n",
    "2. Jumlah ruangan terbanyak adalah 10 ruangan dalam 1 unit properti. Namun, rata-rata harga nya cenderung rendah dibandingkan dengan unit properti dengan jumlah ruangan 3-9."
   ]
  },
  {
   "cell_type": "markdown",
   "id": "501225c6",
   "metadata": {},
   "source": [
    "# 5. Feature Engineering"
   ]
  },
  {
   "cell_type": "markdown",
   "id": "9bc926a0",
   "metadata": {},
   "source": [
    "Pada bagian ini, kita akan menganalisis setiap fitur yang dianggap relevan pada dataset untuk membuat model prediksi yang sesuai dengan tujuan project ini. Kita akan melakukan pengecekan dahulu terhadap dataset yang akan kita gunakan."
   ]
  },
  {
   "cell_type": "code",
   "execution_count": 105,
   "id": "600b3aa4",
   "metadata": {},
   "outputs": [
    {
     "data": {
      "text/html": [
       "<div>\n",
       "<style scoped>\n",
       "    .dataframe tbody tr th:only-of-type {\n",
       "        vertical-align: middle;\n",
       "    }\n",
       "\n",
       "    .dataframe tbody tr th {\n",
       "        vertical-align: top;\n",
       "    }\n",
       "\n",
       "    .dataframe thead th {\n",
       "        text-align: right;\n",
       "    }\n",
       "</style>\n",
       "<table border=\"1\" class=\"dataframe\">\n",
       "  <thead>\n",
       "    <tr style=\"text-align: right;\">\n",
       "      <th></th>\n",
       "      <th>suburb</th>\n",
       "      <th>address</th>\n",
       "      <th>rooms</th>\n",
       "      <th>type</th>\n",
       "      <th>price</th>\n",
       "      <th>method</th>\n",
       "      <th>agent_name</th>\n",
       "      <th>date</th>\n",
       "      <th>distance</th>\n",
       "      <th>postcode</th>\n",
       "      <th>...</th>\n",
       "      <th>bathroom</th>\n",
       "      <th>carport</th>\n",
       "      <th>land_size</th>\n",
       "      <th>building_area</th>\n",
       "      <th>year_built</th>\n",
       "      <th>council_area</th>\n",
       "      <th>lattitude</th>\n",
       "      <th>longitude</th>\n",
       "      <th>region_name</th>\n",
       "      <th>property_count</th>\n",
       "    </tr>\n",
       "  </thead>\n",
       "  <tbody>\n",
       "    <tr>\n",
       "      <th>0</th>\n",
       "      <td>Abbotsford</td>\n",
       "      <td>85 Turner St</td>\n",
       "      <td>2</td>\n",
       "      <td>h</td>\n",
       "      <td>1480000.0</td>\n",
       "      <td>S</td>\n",
       "      <td>Biggin</td>\n",
       "      <td>3/12/2016</td>\n",
       "      <td>2.5</td>\n",
       "      <td>3067.0</td>\n",
       "      <td>...</td>\n",
       "      <td>1.0</td>\n",
       "      <td>1.0</td>\n",
       "      <td>202.0</td>\n",
       "      <td>NaN</td>\n",
       "      <td>NaN</td>\n",
       "      <td>Yarra</td>\n",
       "      <td>-37.7996</td>\n",
       "      <td>144.9984</td>\n",
       "      <td>Northern Metropolitan</td>\n",
       "      <td>4019.0</td>\n",
       "    </tr>\n",
       "    <tr>\n",
       "      <th>1</th>\n",
       "      <td>Abbotsford</td>\n",
       "      <td>25 Bloomburg St</td>\n",
       "      <td>2</td>\n",
       "      <td>h</td>\n",
       "      <td>1035000.0</td>\n",
       "      <td>S</td>\n",
       "      <td>Biggin</td>\n",
       "      <td>4/02/2016</td>\n",
       "      <td>2.5</td>\n",
       "      <td>3067.0</td>\n",
       "      <td>...</td>\n",
       "      <td>1.0</td>\n",
       "      <td>0.0</td>\n",
       "      <td>156.0</td>\n",
       "      <td>79.0</td>\n",
       "      <td>1900.0</td>\n",
       "      <td>Yarra</td>\n",
       "      <td>-37.8079</td>\n",
       "      <td>144.9934</td>\n",
       "      <td>Northern Metropolitan</td>\n",
       "      <td>4019.0</td>\n",
       "    </tr>\n",
       "    <tr>\n",
       "      <th>2</th>\n",
       "      <td>Abbotsford</td>\n",
       "      <td>5 Charles St</td>\n",
       "      <td>3</td>\n",
       "      <td>h</td>\n",
       "      <td>1465000.0</td>\n",
       "      <td>SP</td>\n",
       "      <td>Biggin</td>\n",
       "      <td>4/03/2017</td>\n",
       "      <td>2.5</td>\n",
       "      <td>3067.0</td>\n",
       "      <td>...</td>\n",
       "      <td>2.0</td>\n",
       "      <td>0.0</td>\n",
       "      <td>134.0</td>\n",
       "      <td>150.0</td>\n",
       "      <td>1900.0</td>\n",
       "      <td>Yarra</td>\n",
       "      <td>-37.8093</td>\n",
       "      <td>144.9944</td>\n",
       "      <td>Northern Metropolitan</td>\n",
       "      <td>4019.0</td>\n",
       "    </tr>\n",
       "    <tr>\n",
       "      <th>3</th>\n",
       "      <td>Abbotsford</td>\n",
       "      <td>40 Federation La</td>\n",
       "      <td>3</td>\n",
       "      <td>h</td>\n",
       "      <td>850000.0</td>\n",
       "      <td>PI</td>\n",
       "      <td>Biggin</td>\n",
       "      <td>4/03/2017</td>\n",
       "      <td>2.5</td>\n",
       "      <td>3067.0</td>\n",
       "      <td>...</td>\n",
       "      <td>2.0</td>\n",
       "      <td>1.0</td>\n",
       "      <td>94.0</td>\n",
       "      <td>NaN</td>\n",
       "      <td>NaN</td>\n",
       "      <td>Yarra</td>\n",
       "      <td>-37.7969</td>\n",
       "      <td>144.9969</td>\n",
       "      <td>Northern Metropolitan</td>\n",
       "      <td>4019.0</td>\n",
       "    </tr>\n",
       "    <tr>\n",
       "      <th>4</th>\n",
       "      <td>Abbotsford</td>\n",
       "      <td>55a Park St</td>\n",
       "      <td>4</td>\n",
       "      <td>h</td>\n",
       "      <td>1600000.0</td>\n",
       "      <td>VB</td>\n",
       "      <td>Nelson</td>\n",
       "      <td>4/06/2016</td>\n",
       "      <td>2.5</td>\n",
       "      <td>3067.0</td>\n",
       "      <td>...</td>\n",
       "      <td>1.0</td>\n",
       "      <td>2.0</td>\n",
       "      <td>120.0</td>\n",
       "      <td>142.0</td>\n",
       "      <td>2014.0</td>\n",
       "      <td>Yarra</td>\n",
       "      <td>-37.8072</td>\n",
       "      <td>144.9941</td>\n",
       "      <td>Northern Metropolitan</td>\n",
       "      <td>4019.0</td>\n",
       "    </tr>\n",
       "    <tr>\n",
       "      <th>5</th>\n",
       "      <td>Abbotsford</td>\n",
       "      <td>129 Charles St</td>\n",
       "      <td>2</td>\n",
       "      <td>h</td>\n",
       "      <td>941000.0</td>\n",
       "      <td>S</td>\n",
       "      <td>Jellis</td>\n",
       "      <td>7/05/2016</td>\n",
       "      <td>2.5</td>\n",
       "      <td>3067.0</td>\n",
       "      <td>...</td>\n",
       "      <td>1.0</td>\n",
       "      <td>0.0</td>\n",
       "      <td>181.0</td>\n",
       "      <td>NaN</td>\n",
       "      <td>NaN</td>\n",
       "      <td>Yarra</td>\n",
       "      <td>-37.8041</td>\n",
       "      <td>144.9953</td>\n",
       "      <td>Northern Metropolitan</td>\n",
       "      <td>4019.0</td>\n",
       "    </tr>\n",
       "    <tr>\n",
       "      <th>6</th>\n",
       "      <td>Abbotsford</td>\n",
       "      <td>124 Yarra St</td>\n",
       "      <td>3</td>\n",
       "      <td>h</td>\n",
       "      <td>1876000.0</td>\n",
       "      <td>S</td>\n",
       "      <td>Nelson</td>\n",
       "      <td>7/05/2016</td>\n",
       "      <td>2.5</td>\n",
       "      <td>3067.0</td>\n",
       "      <td>...</td>\n",
       "      <td>2.0</td>\n",
       "      <td>0.0</td>\n",
       "      <td>245.0</td>\n",
       "      <td>210.0</td>\n",
       "      <td>1910.0</td>\n",
       "      <td>Yarra</td>\n",
       "      <td>-37.8024</td>\n",
       "      <td>144.9993</td>\n",
       "      <td>Northern Metropolitan</td>\n",
       "      <td>4019.0</td>\n",
       "    </tr>\n",
       "    <tr>\n",
       "      <th>7</th>\n",
       "      <td>Abbotsford</td>\n",
       "      <td>98 Charles St</td>\n",
       "      <td>2</td>\n",
       "      <td>h</td>\n",
       "      <td>1636000.0</td>\n",
       "      <td>S</td>\n",
       "      <td>Nelson</td>\n",
       "      <td>8/10/2016</td>\n",
       "      <td>2.5</td>\n",
       "      <td>3067.0</td>\n",
       "      <td>...</td>\n",
       "      <td>1.0</td>\n",
       "      <td>2.0</td>\n",
       "      <td>256.0</td>\n",
       "      <td>107.0</td>\n",
       "      <td>1890.0</td>\n",
       "      <td>Yarra</td>\n",
       "      <td>-37.8060</td>\n",
       "      <td>144.9954</td>\n",
       "      <td>Northern Metropolitan</td>\n",
       "      <td>4019.0</td>\n",
       "    </tr>\n",
       "    <tr>\n",
       "      <th>8</th>\n",
       "      <td>Abbotsford</td>\n",
       "      <td>6/241 Nicholson St</td>\n",
       "      <td>1</td>\n",
       "      <td>u</td>\n",
       "      <td>300000.0</td>\n",
       "      <td>S</td>\n",
       "      <td>Biggin</td>\n",
       "      <td>8/10/2016</td>\n",
       "      <td>2.5</td>\n",
       "      <td>3067.0</td>\n",
       "      <td>...</td>\n",
       "      <td>1.0</td>\n",
       "      <td>1.0</td>\n",
       "      <td>0.0</td>\n",
       "      <td>NaN</td>\n",
       "      <td>NaN</td>\n",
       "      <td>Yarra</td>\n",
       "      <td>-37.8008</td>\n",
       "      <td>144.9973</td>\n",
       "      <td>Northern Metropolitan</td>\n",
       "      <td>4019.0</td>\n",
       "    </tr>\n",
       "    <tr>\n",
       "      <th>9</th>\n",
       "      <td>Abbotsford</td>\n",
       "      <td>10 Valiant St</td>\n",
       "      <td>2</td>\n",
       "      <td>h</td>\n",
       "      <td>1097000.0</td>\n",
       "      <td>S</td>\n",
       "      <td>Biggin</td>\n",
       "      <td>8/10/2016</td>\n",
       "      <td>2.5</td>\n",
       "      <td>3067.0</td>\n",
       "      <td>...</td>\n",
       "      <td>1.0</td>\n",
       "      <td>2.0</td>\n",
       "      <td>220.0</td>\n",
       "      <td>75.0</td>\n",
       "      <td>1900.0</td>\n",
       "      <td>Yarra</td>\n",
       "      <td>-37.8010</td>\n",
       "      <td>144.9989</td>\n",
       "      <td>Northern Metropolitan</td>\n",
       "      <td>4019.0</td>\n",
       "    </tr>\n",
       "  </tbody>\n",
       "</table>\n",
       "<p>10 rows × 21 columns</p>\n",
       "</div>"
      ],
      "text/plain": [
       "       suburb             address  rooms type      price method agent_name  \\\n",
       "0  Abbotsford        85 Turner St      2    h  1480000.0      S     Biggin   \n",
       "1  Abbotsford     25 Bloomburg St      2    h  1035000.0      S     Biggin   \n",
       "2  Abbotsford        5 Charles St      3    h  1465000.0     SP     Biggin   \n",
       "3  Abbotsford    40 Federation La      3    h   850000.0     PI     Biggin   \n",
       "4  Abbotsford         55a Park St      4    h  1600000.0     VB     Nelson   \n",
       "5  Abbotsford      129 Charles St      2    h   941000.0      S     Jellis   \n",
       "6  Abbotsford        124 Yarra St      3    h  1876000.0      S     Nelson   \n",
       "7  Abbotsford       98 Charles St      2    h  1636000.0      S     Nelson   \n",
       "8  Abbotsford  6/241 Nicholson St      1    u   300000.0      S     Biggin   \n",
       "9  Abbotsford       10 Valiant St      2    h  1097000.0      S     Biggin   \n",
       "\n",
       "        date  distance  postcode  ...  bathroom  carport  land_size  \\\n",
       "0  3/12/2016       2.5    3067.0  ...       1.0      1.0      202.0   \n",
       "1  4/02/2016       2.5    3067.0  ...       1.0      0.0      156.0   \n",
       "2  4/03/2017       2.5    3067.0  ...       2.0      0.0      134.0   \n",
       "3  4/03/2017       2.5    3067.0  ...       2.0      1.0       94.0   \n",
       "4  4/06/2016       2.5    3067.0  ...       1.0      2.0      120.0   \n",
       "5  7/05/2016       2.5    3067.0  ...       1.0      0.0      181.0   \n",
       "6  7/05/2016       2.5    3067.0  ...       2.0      0.0      245.0   \n",
       "7  8/10/2016       2.5    3067.0  ...       1.0      2.0      256.0   \n",
       "8  8/10/2016       2.5    3067.0  ...       1.0      1.0        0.0   \n",
       "9  8/10/2016       2.5    3067.0  ...       1.0      2.0      220.0   \n",
       "\n",
       "   building_area  year_built  council_area lattitude  longitude  \\\n",
       "0            NaN         NaN         Yarra  -37.7996   144.9984   \n",
       "1           79.0      1900.0         Yarra  -37.8079   144.9934   \n",
       "2          150.0      1900.0         Yarra  -37.8093   144.9944   \n",
       "3            NaN         NaN         Yarra  -37.7969   144.9969   \n",
       "4          142.0      2014.0         Yarra  -37.8072   144.9941   \n",
       "5            NaN         NaN         Yarra  -37.8041   144.9953   \n",
       "6          210.0      1910.0         Yarra  -37.8024   144.9993   \n",
       "7          107.0      1890.0         Yarra  -37.8060   144.9954   \n",
       "8            NaN         NaN         Yarra  -37.8008   144.9973   \n",
       "9           75.0      1900.0         Yarra  -37.8010   144.9989   \n",
       "\n",
       "             region_name property_count  \n",
       "0  Northern Metropolitan         4019.0  \n",
       "1  Northern Metropolitan         4019.0  \n",
       "2  Northern Metropolitan         4019.0  \n",
       "3  Northern Metropolitan         4019.0  \n",
       "4  Northern Metropolitan         4019.0  \n",
       "5  Northern Metropolitan         4019.0  \n",
       "6  Northern Metropolitan         4019.0  \n",
       "7  Northern Metropolitan         4019.0  \n",
       "8  Northern Metropolitan         4019.0  \n",
       "9  Northern Metropolitan         4019.0  \n",
       "\n",
       "[10 rows x 21 columns]"
      ]
     },
     "execution_count": 105,
     "metadata": {},
     "output_type": "execute_result"
    }
   ],
   "source": [
    "# Menampilkan dataset\n",
    "df.head(10)"
   ]
  },
  {
   "cell_type": "markdown",
   "id": "251e01d8",
   "metadata": {},
   "source": [
    "Kita akan memulai analisis dengan membagi data menjadi train dan test terlebih dahulu."
   ]
  },
  {
   "cell_type": "markdown",
   "id": "86982b16",
   "metadata": {},
   "source": [
    "### 5.1. Split Data Fitur and Target"
   ]
  },
  {
   "cell_type": "markdown",
   "id": "9bd9edc0",
   "metadata": {},
   "source": [
    "Kita akan menjadikan kolom `price` sebagai target dan kolom lainnya sebagai fitur."
   ]
  },
  {
   "cell_type": "code",
   "execution_count": 106,
   "id": "7c8770f6",
   "metadata": {},
   "outputs": [
    {
     "data": {
      "text/plain": [
       "0        1480000.0\n",
       "1        1035000.0\n",
       "2        1465000.0\n",
       "3         850000.0\n",
       "4        1600000.0\n",
       "           ...    \n",
       "13575    1245000.0\n",
       "13576    1031000.0\n",
       "13577    1170000.0\n",
       "13578    2500000.0\n",
       "13579    1285000.0\n",
       "Name: price, Length: 13580, dtype: float64"
      ]
     },
     "execution_count": 106,
     "metadata": {},
     "output_type": "execute_result"
    }
   ],
   "source": [
    "# Melakukan pemisahan X sebagai fitur dan y sebagai target\n",
    "X = df.drop(['price'],axis=1)\n",
    "y = df.price\n",
    "\n",
    "# Menampilkan data y\n",
    "y"
   ]
  },
  {
   "cell_type": "code",
   "execution_count": 107,
   "id": "b2576fbe",
   "metadata": {},
   "outputs": [
    {
     "data": {
      "text/html": [
       "<div>\n",
       "<style scoped>\n",
       "    .dataframe tbody tr th:only-of-type {\n",
       "        vertical-align: middle;\n",
       "    }\n",
       "\n",
       "    .dataframe tbody tr th {\n",
       "        vertical-align: top;\n",
       "    }\n",
       "\n",
       "    .dataframe thead th {\n",
       "        text-align: right;\n",
       "    }\n",
       "</style>\n",
       "<table border=\"1\" class=\"dataframe\">\n",
       "  <thead>\n",
       "    <tr style=\"text-align: right;\">\n",
       "      <th></th>\n",
       "      <th>suburb</th>\n",
       "      <th>address</th>\n",
       "      <th>rooms</th>\n",
       "      <th>type</th>\n",
       "      <th>method</th>\n",
       "      <th>agent_name</th>\n",
       "      <th>date</th>\n",
       "      <th>distance</th>\n",
       "      <th>postcode</th>\n",
       "      <th>bedroom</th>\n",
       "      <th>bathroom</th>\n",
       "      <th>carport</th>\n",
       "      <th>land_size</th>\n",
       "      <th>building_area</th>\n",
       "      <th>year_built</th>\n",
       "      <th>council_area</th>\n",
       "      <th>lattitude</th>\n",
       "      <th>longitude</th>\n",
       "      <th>region_name</th>\n",
       "      <th>property_count</th>\n",
       "    </tr>\n",
       "  </thead>\n",
       "  <tbody>\n",
       "    <tr>\n",
       "      <th>0</th>\n",
       "      <td>Abbotsford</td>\n",
       "      <td>85 Turner St</td>\n",
       "      <td>2</td>\n",
       "      <td>h</td>\n",
       "      <td>S</td>\n",
       "      <td>Biggin</td>\n",
       "      <td>3/12/2016</td>\n",
       "      <td>2.5</td>\n",
       "      <td>3067.0</td>\n",
       "      <td>2.0</td>\n",
       "      <td>1.0</td>\n",
       "      <td>1.0</td>\n",
       "      <td>202.0</td>\n",
       "      <td>NaN</td>\n",
       "      <td>NaN</td>\n",
       "      <td>Yarra</td>\n",
       "      <td>-37.79960</td>\n",
       "      <td>144.99840</td>\n",
       "      <td>Northern Metropolitan</td>\n",
       "      <td>4019.0</td>\n",
       "    </tr>\n",
       "    <tr>\n",
       "      <th>1</th>\n",
       "      <td>Abbotsford</td>\n",
       "      <td>25 Bloomburg St</td>\n",
       "      <td>2</td>\n",
       "      <td>h</td>\n",
       "      <td>S</td>\n",
       "      <td>Biggin</td>\n",
       "      <td>4/02/2016</td>\n",
       "      <td>2.5</td>\n",
       "      <td>3067.0</td>\n",
       "      <td>2.0</td>\n",
       "      <td>1.0</td>\n",
       "      <td>0.0</td>\n",
       "      <td>156.0</td>\n",
       "      <td>79.0</td>\n",
       "      <td>1900.0</td>\n",
       "      <td>Yarra</td>\n",
       "      <td>-37.80790</td>\n",
       "      <td>144.99340</td>\n",
       "      <td>Northern Metropolitan</td>\n",
       "      <td>4019.0</td>\n",
       "    </tr>\n",
       "    <tr>\n",
       "      <th>2</th>\n",
       "      <td>Abbotsford</td>\n",
       "      <td>5 Charles St</td>\n",
       "      <td>3</td>\n",
       "      <td>h</td>\n",
       "      <td>SP</td>\n",
       "      <td>Biggin</td>\n",
       "      <td>4/03/2017</td>\n",
       "      <td>2.5</td>\n",
       "      <td>3067.0</td>\n",
       "      <td>3.0</td>\n",
       "      <td>2.0</td>\n",
       "      <td>0.0</td>\n",
       "      <td>134.0</td>\n",
       "      <td>150.0</td>\n",
       "      <td>1900.0</td>\n",
       "      <td>Yarra</td>\n",
       "      <td>-37.80930</td>\n",
       "      <td>144.99440</td>\n",
       "      <td>Northern Metropolitan</td>\n",
       "      <td>4019.0</td>\n",
       "    </tr>\n",
       "    <tr>\n",
       "      <th>3</th>\n",
       "      <td>Abbotsford</td>\n",
       "      <td>40 Federation La</td>\n",
       "      <td>3</td>\n",
       "      <td>h</td>\n",
       "      <td>PI</td>\n",
       "      <td>Biggin</td>\n",
       "      <td>4/03/2017</td>\n",
       "      <td>2.5</td>\n",
       "      <td>3067.0</td>\n",
       "      <td>3.0</td>\n",
       "      <td>2.0</td>\n",
       "      <td>1.0</td>\n",
       "      <td>94.0</td>\n",
       "      <td>NaN</td>\n",
       "      <td>NaN</td>\n",
       "      <td>Yarra</td>\n",
       "      <td>-37.79690</td>\n",
       "      <td>144.99690</td>\n",
       "      <td>Northern Metropolitan</td>\n",
       "      <td>4019.0</td>\n",
       "    </tr>\n",
       "    <tr>\n",
       "      <th>4</th>\n",
       "      <td>Abbotsford</td>\n",
       "      <td>55a Park St</td>\n",
       "      <td>4</td>\n",
       "      <td>h</td>\n",
       "      <td>VB</td>\n",
       "      <td>Nelson</td>\n",
       "      <td>4/06/2016</td>\n",
       "      <td>2.5</td>\n",
       "      <td>3067.0</td>\n",
       "      <td>3.0</td>\n",
       "      <td>1.0</td>\n",
       "      <td>2.0</td>\n",
       "      <td>120.0</td>\n",
       "      <td>142.0</td>\n",
       "      <td>2014.0</td>\n",
       "      <td>Yarra</td>\n",
       "      <td>-37.80720</td>\n",
       "      <td>144.99410</td>\n",
       "      <td>Northern Metropolitan</td>\n",
       "      <td>4019.0</td>\n",
       "    </tr>\n",
       "    <tr>\n",
       "      <th>...</th>\n",
       "      <td>...</td>\n",
       "      <td>...</td>\n",
       "      <td>...</td>\n",
       "      <td>...</td>\n",
       "      <td>...</td>\n",
       "      <td>...</td>\n",
       "      <td>...</td>\n",
       "      <td>...</td>\n",
       "      <td>...</td>\n",
       "      <td>...</td>\n",
       "      <td>...</td>\n",
       "      <td>...</td>\n",
       "      <td>...</td>\n",
       "      <td>...</td>\n",
       "      <td>...</td>\n",
       "      <td>...</td>\n",
       "      <td>...</td>\n",
       "      <td>...</td>\n",
       "      <td>...</td>\n",
       "      <td>...</td>\n",
       "    </tr>\n",
       "    <tr>\n",
       "      <th>13575</th>\n",
       "      <td>Wheelers Hill</td>\n",
       "      <td>12 Strada Cr</td>\n",
       "      <td>4</td>\n",
       "      <td>h</td>\n",
       "      <td>S</td>\n",
       "      <td>Barry</td>\n",
       "      <td>26/08/2017</td>\n",
       "      <td>16.7</td>\n",
       "      <td>3150.0</td>\n",
       "      <td>4.0</td>\n",
       "      <td>2.0</td>\n",
       "      <td>2.0</td>\n",
       "      <td>652.0</td>\n",
       "      <td>NaN</td>\n",
       "      <td>1981.0</td>\n",
       "      <td>NaN</td>\n",
       "      <td>-37.90562</td>\n",
       "      <td>145.16761</td>\n",
       "      <td>South-Eastern Metropolitan</td>\n",
       "      <td>7392.0</td>\n",
       "    </tr>\n",
       "    <tr>\n",
       "      <th>13576</th>\n",
       "      <td>Williamstown</td>\n",
       "      <td>77 Merrett Dr</td>\n",
       "      <td>3</td>\n",
       "      <td>h</td>\n",
       "      <td>SP</td>\n",
       "      <td>Williams</td>\n",
       "      <td>26/08/2017</td>\n",
       "      <td>6.8</td>\n",
       "      <td>3016.0</td>\n",
       "      <td>3.0</td>\n",
       "      <td>2.0</td>\n",
       "      <td>2.0</td>\n",
       "      <td>333.0</td>\n",
       "      <td>133.0</td>\n",
       "      <td>1995.0</td>\n",
       "      <td>NaN</td>\n",
       "      <td>-37.85927</td>\n",
       "      <td>144.87904</td>\n",
       "      <td>Western Metropolitan</td>\n",
       "      <td>6380.0</td>\n",
       "    </tr>\n",
       "    <tr>\n",
       "      <th>13577</th>\n",
       "      <td>Williamstown</td>\n",
       "      <td>83 Power St</td>\n",
       "      <td>3</td>\n",
       "      <td>h</td>\n",
       "      <td>S</td>\n",
       "      <td>Raine</td>\n",
       "      <td>26/08/2017</td>\n",
       "      <td>6.8</td>\n",
       "      <td>3016.0</td>\n",
       "      <td>3.0</td>\n",
       "      <td>2.0</td>\n",
       "      <td>4.0</td>\n",
       "      <td>436.0</td>\n",
       "      <td>NaN</td>\n",
       "      <td>1997.0</td>\n",
       "      <td>NaN</td>\n",
       "      <td>-37.85274</td>\n",
       "      <td>144.88738</td>\n",
       "      <td>Western Metropolitan</td>\n",
       "      <td>6380.0</td>\n",
       "    </tr>\n",
       "    <tr>\n",
       "      <th>13578</th>\n",
       "      <td>Williamstown</td>\n",
       "      <td>96 Verdon St</td>\n",
       "      <td>4</td>\n",
       "      <td>h</td>\n",
       "      <td>PI</td>\n",
       "      <td>Sweeney</td>\n",
       "      <td>26/08/2017</td>\n",
       "      <td>6.8</td>\n",
       "      <td>3016.0</td>\n",
       "      <td>4.0</td>\n",
       "      <td>1.0</td>\n",
       "      <td>5.0</td>\n",
       "      <td>866.0</td>\n",
       "      <td>157.0</td>\n",
       "      <td>1920.0</td>\n",
       "      <td>NaN</td>\n",
       "      <td>-37.85908</td>\n",
       "      <td>144.89299</td>\n",
       "      <td>Western Metropolitan</td>\n",
       "      <td>6380.0</td>\n",
       "    </tr>\n",
       "    <tr>\n",
       "      <th>13579</th>\n",
       "      <td>Yarraville</td>\n",
       "      <td>6 Agnes St</td>\n",
       "      <td>4</td>\n",
       "      <td>h</td>\n",
       "      <td>SP</td>\n",
       "      <td>Village</td>\n",
       "      <td>26/08/2017</td>\n",
       "      <td>6.3</td>\n",
       "      <td>3013.0</td>\n",
       "      <td>4.0</td>\n",
       "      <td>1.0</td>\n",
       "      <td>1.0</td>\n",
       "      <td>362.0</td>\n",
       "      <td>112.0</td>\n",
       "      <td>1920.0</td>\n",
       "      <td>NaN</td>\n",
       "      <td>-37.81188</td>\n",
       "      <td>144.88449</td>\n",
       "      <td>Western Metropolitan</td>\n",
       "      <td>6543.0</td>\n",
       "    </tr>\n",
       "  </tbody>\n",
       "</table>\n",
       "<p>13580 rows × 20 columns</p>\n",
       "</div>"
      ],
      "text/plain": [
       "              suburb           address  rooms type method agent_name  \\\n",
       "0         Abbotsford      85 Turner St      2    h      S     Biggin   \n",
       "1         Abbotsford   25 Bloomburg St      2    h      S     Biggin   \n",
       "2         Abbotsford      5 Charles St      3    h     SP     Biggin   \n",
       "3         Abbotsford  40 Federation La      3    h     PI     Biggin   \n",
       "4         Abbotsford       55a Park St      4    h     VB     Nelson   \n",
       "...              ...               ...    ...  ...    ...        ...   \n",
       "13575  Wheelers Hill      12 Strada Cr      4    h      S      Barry   \n",
       "13576   Williamstown     77 Merrett Dr      3    h     SP   Williams   \n",
       "13577   Williamstown       83 Power St      3    h      S      Raine   \n",
       "13578   Williamstown      96 Verdon St      4    h     PI    Sweeney   \n",
       "13579     Yarraville        6 Agnes St      4    h     SP    Village   \n",
       "\n",
       "             date  distance  postcode  bedroom  bathroom  carport  land_size  \\\n",
       "0       3/12/2016       2.5    3067.0      2.0       1.0      1.0      202.0   \n",
       "1       4/02/2016       2.5    3067.0      2.0       1.0      0.0      156.0   \n",
       "2       4/03/2017       2.5    3067.0      3.0       2.0      0.0      134.0   \n",
       "3       4/03/2017       2.5    3067.0      3.0       2.0      1.0       94.0   \n",
       "4       4/06/2016       2.5    3067.0      3.0       1.0      2.0      120.0   \n",
       "...           ...       ...       ...      ...       ...      ...        ...   \n",
       "13575  26/08/2017      16.7    3150.0      4.0       2.0      2.0      652.0   \n",
       "13576  26/08/2017       6.8    3016.0      3.0       2.0      2.0      333.0   \n",
       "13577  26/08/2017       6.8    3016.0      3.0       2.0      4.0      436.0   \n",
       "13578  26/08/2017       6.8    3016.0      4.0       1.0      5.0      866.0   \n",
       "13579  26/08/2017       6.3    3013.0      4.0       1.0      1.0      362.0   \n",
       "\n",
       "       building_area  year_built council_area  lattitude  longitude  \\\n",
       "0                NaN         NaN        Yarra  -37.79960  144.99840   \n",
       "1               79.0      1900.0        Yarra  -37.80790  144.99340   \n",
       "2              150.0      1900.0        Yarra  -37.80930  144.99440   \n",
       "3                NaN         NaN        Yarra  -37.79690  144.99690   \n",
       "4              142.0      2014.0        Yarra  -37.80720  144.99410   \n",
       "...              ...         ...          ...        ...        ...   \n",
       "13575            NaN      1981.0          NaN  -37.90562  145.16761   \n",
       "13576          133.0      1995.0          NaN  -37.85927  144.87904   \n",
       "13577            NaN      1997.0          NaN  -37.85274  144.88738   \n",
       "13578          157.0      1920.0          NaN  -37.85908  144.89299   \n",
       "13579          112.0      1920.0          NaN  -37.81188  144.88449   \n",
       "\n",
       "                      region_name  property_count  \n",
       "0           Northern Metropolitan          4019.0  \n",
       "1           Northern Metropolitan          4019.0  \n",
       "2           Northern Metropolitan          4019.0  \n",
       "3           Northern Metropolitan          4019.0  \n",
       "4           Northern Metropolitan          4019.0  \n",
       "...                           ...             ...  \n",
       "13575  South-Eastern Metropolitan          7392.0  \n",
       "13576        Western Metropolitan          6380.0  \n",
       "13577        Western Metropolitan          6380.0  \n",
       "13578        Western Metropolitan          6380.0  \n",
       "13579        Western Metropolitan          6543.0  \n",
       "\n",
       "[13580 rows x 20 columns]"
      ]
     },
     "execution_count": 107,
     "metadata": {},
     "output_type": "execute_result"
    }
   ],
   "source": [
    "# Menampilkan data X\n",
    "X"
   ]
  },
  {
   "cell_type": "markdown",
   "id": "262e0a76",
   "metadata": {},
   "source": [
    "Selanjutnya, kita akan melakukan pengelompokan data dengan jenis kolom numerikal dan kategorikal."
   ]
  },
  {
   "cell_type": "markdown",
   "id": "a9cbf5dc",
   "metadata": {},
   "source": [
    "### 5.2. Split Numerical and Categorical Columns"
   ]
  },
  {
   "cell_type": "code",
   "execution_count": 108,
   "id": "1bb4d59c",
   "metadata": {},
   "outputs": [
    {
     "data": {
      "text/plain": [
       "Index(['suburb', 'address', 'rooms', 'type', 'method', 'agent_name', 'date',\n",
       "       'distance', 'postcode', 'bedroom', 'bathroom', 'carport', 'land_size',\n",
       "       'building_area', 'year_built', 'council_area', 'lattitude', 'longitude',\n",
       "       'region_name', 'property_count'],\n",
       "      dtype='object')"
      ]
     },
     "execution_count": 108,
     "metadata": {},
     "output_type": "execute_result"
    }
   ],
   "source": [
    "# Menampilkan seluruh kolom pada fitur X\n",
    "X.columns"
   ]
  },
  {
   "cell_type": "markdown",
   "id": "dbdf88cb",
   "metadata": {},
   "source": [
    "Selanjutnya, kita akan menyisihkan kolom yang dirasa tidak berpengaruh untuk melakukan prediksi. Pengolahan pada kolom `date` akan dilakukan pada tahap-tahap berikutnya."
   ]
  },
  {
   "cell_type": "code",
   "execution_count": 109,
   "id": "17ec334e",
   "metadata": {},
   "outputs": [
    {
     "data": {
      "text/plain": [
       "Index(['suburb', 'rooms', 'type', 'method', 'date', 'distance', 'bedroom',\n",
       "       'bathroom', 'carport', 'land_size', 'building_area', 'year_built',\n",
       "       'region_name', 'property_count'],\n",
       "      dtype='object')"
      ]
     },
     "execution_count": 109,
     "metadata": {},
     "output_type": "execute_result"
    }
   ],
   "source": [
    "# Melakukan drop kolom\n",
    "X = X.drop(columns=['address', 'agent_name', 'postcode', 'council_area', 'lattitude', 'longitude'])\n",
    "\n",
    "# Menampilkan kembali seluruh kolom pada fitur X\n",
    "X.columns"
   ]
  },
  {
   "cell_type": "code",
   "execution_count": 110,
   "id": "453394f5",
   "metadata": {},
   "outputs": [],
   "source": [
    "# Membuat kelompok kolom numerikal\n",
    "num_cols = ['rooms','distance', 'bedroom',\n",
    "            'bathroom', 'carport', 'land_size',\n",
    "            'building_area', 'year_built', 'property_count' ]\n",
    "\n",
    "# Membuat kelompok kolom kategorikal\n",
    "cat_cols =['suburb', 'type', \n",
    "           'method', 'region_name']"
   ]
  },
  {
   "cell_type": "markdown",
   "id": "7edf36f8",
   "metadata": {},
   "source": [
    "Selanjutnya, kita akan melakukan Cardinality Check untuk kolom categorikal."
   ]
  },
  {
   "cell_type": "markdown",
   "id": "14ed72b8",
   "metadata": {},
   "source": [
    "### 5.3. Cardinality Check"
   ]
  },
  {
   "cell_type": "code",
   "execution_count": 111,
   "id": "6442ca9c",
   "metadata": {},
   "outputs": [
    {
     "name": "stdout",
     "output_type": "stream",
     "text": [
      "Kolom: suburb, Jumlah unique value: 314\n",
      "Kolom: type, Jumlah unique value: 3\n",
      "Kolom: method, Jumlah unique value: 5\n",
      "Kolom: region_name, Jumlah unique value: 8\n"
     ]
    }
   ],
   "source": [
    "# Membuat looping kolom kategorikal untuk melihat masing-masing jumlah unique value \n",
    "for col in cat_cols:\n",
    "    print(f\"Kolom: {col}, Jumlah unique value: {X[col].nunique()}\")"
   ]
  },
  {
   "cell_type": "markdown",
   "id": "aa7948ff",
   "metadata": {},
   "source": [
    "Dari informasi tersebut, kolom suburb dapat dikategorikan sebagai high cardinality, sedangkan kolom lainnya bisa diasumsikan sudah memiliki low cardinality. Kita akan melakukan encoding untuk kolom `suburb`."
   ]
  },
  {
   "cell_type": "code",
   "execution_count": 112,
   "id": "96f9839b",
   "metadata": {},
   "outputs": [
    {
     "data": {
      "text/plain": [
       "array(['Abbotsford', 'Airport West', 'Albert Park', 'Alphington',\n",
       "       'Altona', 'Altona North', 'Armadale', 'Ascot Vale', 'Ashburton',\n",
       "       'Ashwood', 'Avondale Heights', 'Balaclava', 'Balwyn',\n",
       "       'Balwyn North', 'Bentleigh', 'Bentleigh East', 'Box Hill',\n",
       "       'Braybrook', 'Brighton', 'Brighton East', 'Brunswick',\n",
       "       'Brunswick West', 'Bulleen', 'Burwood', 'Camberwell', 'Canterbury',\n",
       "       'Carlton North', 'Carnegie', 'Caulfield', 'Caulfield North',\n",
       "       'Caulfield South', 'Chadstone', 'Clifton Hill', 'Coburg',\n",
       "       'Coburg North', 'Collingwood', 'Doncaster', 'Eaglemont',\n",
       "       'Elsternwick', 'Elwood', 'Essendon', 'Essendon North', 'Fairfield',\n",
       "       'Fitzroy', 'Fitzroy North', 'Flemington', 'Footscray', 'Glen Iris',\n",
       "       'Glenroy', 'Gowanbrae', 'Hadfield', 'Hampton', 'Hampton East',\n",
       "       'Hawthorn', 'Heidelberg Heights', 'Heidelberg West', 'Hughesdale',\n",
       "       'Ivanhoe', 'Kealba', 'Keilor East', 'Kensington', 'Kew',\n",
       "       'Kew East', 'Kooyong', 'Maidstone', 'Malvern', 'Malvern East',\n",
       "       'Maribyrnong', 'Melbourne', 'Middle Park', 'Mont Albert',\n",
       "       'Moonee Ponds', 'Moorabbin', 'Newport', 'Niddrie',\n",
       "       'North Melbourne', 'Northcote', 'Oak Park', 'Oakleigh South',\n",
       "       'Parkville', 'Pascoe Vale', 'Port Melbourne', 'Prahran', 'Preston',\n",
       "       'Reservoir', 'Richmond', 'Rosanna', 'Seddon', 'South Melbourne',\n",
       "       'South Yarra', 'Southbank', 'Spotswood', 'St Kilda', 'Strathmore',\n",
       "       'Sunshine', 'Sunshine North', 'Sunshine West', 'Surrey Hills',\n",
       "       'Templestowe Lower', 'Thornbury', 'Toorak', 'Viewbank', 'Watsonia',\n",
       "       'West Melbourne', 'Williamstown', 'Williamstown North', 'Windsor',\n",
       "       'Yallambie', 'Yarraville', 'Aberfeldie', 'Bellfield',\n",
       "       'Brunswick East', 'Burnley', 'Campbellfield', 'Carlton',\n",
       "       'East Melbourne', 'Essendon West', 'Fawkner', 'Hawthorn East',\n",
       "       'Heidelberg', 'Ivanhoe East', 'Jacana', 'Kingsbury', 'Kingsville',\n",
       "       'Murrumbeena', 'Ormond', 'West Footscray', 'Albion', 'Brooklyn',\n",
       "       'Glen Huntly', 'Oakleigh', 'Ripponlea', 'Cremorne', 'Docklands',\n",
       "       'South Kingsville', 'Strathmore Heights', 'Travancore',\n",
       "       'Caulfield East', 'Seaholme', 'Keilor Park', 'Gardenvale',\n",
       "       'Princes Hill', 'Bayswater', 'Bayswater North', 'Beaumaris',\n",
       "       'Berwick', 'Boronia', 'Briar Hill', 'Broadmeadows', 'Bundoora',\n",
       "       'Burnside Heights', 'Burwood East', 'Cairnlea', 'Caroline Springs',\n",
       "       'Cheltenham', 'Craigieburn', 'Cranbourne', 'Croydon', 'Dandenong',\n",
       "       'Dandenong North', 'Diamond Creek', 'Dingley Village',\n",
       "       'Doncaster East', 'Donvale', 'Doreen', 'Eltham', 'Epping',\n",
       "       'Forest Hill', 'Frankston', 'Frankston North', 'Frankston South',\n",
       "       'Gisborne', 'Gladstone Park', 'Greensborough', 'Hallam',\n",
       "       'Healesville', 'Highett', 'Hillside', 'Huntingdale',\n",
       "       'Keilor Downs', 'Keilor Lodge', 'Keysborough', 'Kings Park',\n",
       "       'Lalor', 'Lower Plenty', 'Melton', 'Mernda', 'Mill Park',\n",
       "       'Mitcham', 'Montmorency', 'Mordialloc', 'Mount Waverley',\n",
       "       'Narre Warren', 'Nunawading', 'Oakleigh East', 'Parkdale',\n",
       "       'Point Cook', 'Ringwood East', 'Rockbank', 'Rowville',\n",
       "       'Sandringham', 'Seaford', 'Skye', 'South Morang', 'Springvale',\n",
       "       'St Albans', 'Sunbury', 'Tarneit', 'Taylors Hill', 'Taylors Lakes',\n",
       "       'The Basin', 'Thomastown', 'Truganina', 'Tullamarine', 'Vermont',\n",
       "       'Wantirna', 'Wantirna South', 'Werribee', 'Westmeadows',\n",
       "       'Williams Landing', 'Wollert', 'Wyndham Vale', 'Black Rock',\n",
       "       'Blackburn', 'Blackburn North', 'Bonbeach', 'Carrum', 'Chelsea',\n",
       "       'Clayton', 'Doveton', 'Ferntree Gully', 'Glen Waverley',\n",
       "       'Greenvale', 'Heathmont', 'Hoppers Crossing', 'McKinnon',\n",
       "       'Melton South', 'Melton West', 'Mentone', 'Mooroolbark',\n",
       "       'Mulgrave', 'Ringwood', 'Roxburgh Park', 'Seabrook', 'Templestowe',\n",
       "       'Vermont South', 'Warrandyte', 'Watsonia North', 'Wheelers Hill',\n",
       "       'Altona Meadows', 'Blackburn South', 'Carrum Downs',\n",
       "       'Clayton South', 'Croydon North', 'Langwarrin', 'Noble Park',\n",
       "       'Notting Hill', 'Ringwood North', 'Sydenham', 'Albanvale',\n",
       "       'Beaconsfield Upper', 'Chelsea Heights', 'Dallas', 'Deer Park',\n",
       "       'Eltham North', 'Keilor', 'Meadow Heights', 'Mount Evelyn',\n",
       "       'North Warrandyte', 'Pakenham', 'Riddells Creek', 'Sandhurst',\n",
       "       'Scoresby', 'Silvan', 'Aspendale', 'Chirnside Park',\n",
       "       'Croydon Hills', 'Croydon South', 'Derrimut', 'Diggers Rest',\n",
       "       'Edithvale', 'Hampton Park', 'Knoxfield', 'St Helena', 'Upwey',\n",
       "       'Bacchus Marsh', 'Coolaroo', 'Cranbourne North', 'Kilsyth',\n",
       "       'Montrose', 'Aspendale Gardens', 'Bullengarook', 'Clarinda',\n",
       "       'Deepdene', 'Delahey', 'Hurstbridge', 'Kurunjang', 'Wonga Park',\n",
       "       'Endeavour Hills', 'Officer', 'Waterways', 'Ardeer',\n",
       "       'Beaconsfield', 'Springvale South', 'Yarra Glen', 'Brookfield',\n",
       "       'Emerald', 'Whittlesea', 'Burnside', 'Attwood', 'Wallan',\n",
       "       'New Gisborne', 'Plumpton', 'Monbulk'], dtype=object)"
      ]
     },
     "execution_count": 112,
     "metadata": {},
     "output_type": "execute_result"
    }
   ],
   "source": [
    "# Menampilkan unique value dari kolom suburb\n",
    "X['suburb'].unique()"
   ]
  },
  {
   "cell_type": "markdown",
   "id": "53728de0",
   "metadata": {},
   "source": [
    "Untuk menurunkan cardinality dari kolom `suburb`, kita akan melakukan frequency encoding."
   ]
  },
  {
   "cell_type": "code",
   "execution_count": 113,
   "id": "c708afc0",
   "metadata": {},
   "outputs": [],
   "source": [
    "# Hitung frekuensi kemunculan setiap suburb\n",
    "freq_encoding = X['suburb'].value_counts()\n",
    "\n",
    "# Mapping ke dataframe\n",
    "X['suburb_freq'] = X['suburb'].map(freq_encoding)\n",
    "\n",
    "# Menyisihkan kolom suburb\n",
    "X = X.drop(columns=['suburb'])\n",
    "\n",
    "# Memasukkan kolom baru ke dalam kolom numerikal\n",
    "num_cols.append('suburb_freq')"
   ]
  },
  {
   "cell_type": "markdown",
   "id": "13fbf646",
   "metadata": {},
   "source": [
    "Setelah melakukan cardinality check, kita akan melakukan pemisahan data X menjadi train dan test."
   ]
  },
  {
   "cell_type": "markdown",
   "id": "b6a1321b",
   "metadata": {},
   "source": [
    "### 5.4. Split Data Train and Test"
   ]
  },
  {
   "cell_type": "code",
   "execution_count": 114,
   "id": "b0f8c1d9",
   "metadata": {},
   "outputs": [
    {
     "name": "stdout",
     "output_type": "stream",
     "text": [
      "Train Size:  (10864, 14)\n",
      "Test Size:  (2716, 14)\n"
     ]
    }
   ],
   "source": [
    "# Pemisahan data train dan test\n",
    "\n",
    "X_train, X_test, y_train, y_test = train_test_split(X, y, test_size = 0.2, random_state = 28)\n",
    "print('Train Size: ', X_train.shape)\n",
    "print('Test Size: ', X_test.shape)"
   ]
  },
  {
   "cell_type": "markdown",
   "id": "07c48a31",
   "metadata": {},
   "source": [
    "Setelah melakukan pemisahan Data Train dan Test, kita akan melakukan handling missing value."
   ]
  },
  {
   "cell_type": "markdown",
   "id": "cd3dd228",
   "metadata": {},
   "source": [
    "### 5.5 Handling Missing Value\n"
   ]
  },
  {
   "cell_type": "code",
   "execution_count": 115,
   "id": "ede61163",
   "metadata": {},
   "outputs": [
    {
     "data": {
      "text/plain": [
       "rooms                0\n",
       "type                 0\n",
       "method               0\n",
       "date                 0\n",
       "distance             0\n",
       "bedroom              0\n",
       "bathroom             0\n",
       "carport             55\n",
       "land_size            0\n",
       "building_area     5153\n",
       "year_built        4315\n",
       "region_name          0\n",
       "property_count       0\n",
       "suburb_freq          0\n",
       "dtype: int64"
      ]
     },
     "execution_count": 115,
     "metadata": {},
     "output_type": "execute_result"
    }
   ],
   "source": [
    "# Melakukan pengecekan missing value pada X train\n",
    "X_train.isnull().sum()"
   ]
  },
  {
   "cell_type": "code",
   "execution_count": 116,
   "id": "93f9c3af",
   "metadata": {},
   "outputs": [
    {
     "data": {
      "text/plain": [
       "rooms                0\n",
       "type                 0\n",
       "method               0\n",
       "date                 0\n",
       "distance             0\n",
       "bedroom              0\n",
       "bathroom             0\n",
       "carport              7\n",
       "land_size            0\n",
       "building_area     1297\n",
       "year_built        1060\n",
       "region_name          0\n",
       "property_count       0\n",
       "suburb_freq          0\n",
       "dtype: int64"
      ]
     },
     "execution_count": 116,
     "metadata": {},
     "output_type": "execute_result"
    }
   ],
   "source": [
    "# Melakukan pengecekan missing value pada X train\n",
    "X_test.isnull().sum()"
   ]
  },
  {
   "cell_type": "code",
   "execution_count": 117,
   "id": "5be3d6f9",
   "metadata": {},
   "outputs": [
    {
     "data": {
      "text/plain": [
       "0"
      ]
     },
     "execution_count": 117,
     "metadata": {},
     "output_type": "execute_result"
    }
   ],
   "source": [
    "# Melakukan pengecekan missing value pada X train\n",
    "y_train.isnull().sum()"
   ]
  },
  {
   "cell_type": "code",
   "execution_count": 118,
   "id": "ec0aa13b",
   "metadata": {},
   "outputs": [
    {
     "data": {
      "text/plain": [
       "0"
      ]
     },
     "execution_count": 118,
     "metadata": {},
     "output_type": "execute_result"
    }
   ],
   "source": [
    "# Melakukan pengecekan missing value pada X train\n",
    "y_test.isnull().sum()"
   ]
  },
  {
   "cell_type": "markdown",
   "id": "67db138b",
   "metadata": {},
   "source": [
    "Terdapat missing value pada kolom `carport`, `building_area`, dan `year_built` pada data X train dan test. Kita akan melakukan pengecekan jenis missing value pada ketiga kolom tersebut untuk mengetahui jenis handling missing value yang dapat dilakukan."
   ]
  },
  {
   "cell_type": "code",
   "execution_count": 119,
   "id": "33a4f3a9",
   "metadata": {},
   "outputs": [
    {
     "name": "stdout",
     "output_type": "stream",
     "text": [
      "                 count         mean         std     min     25%     50%  \\\n",
      "carport        10809.0     1.611527    0.953188     0.0     1.0     2.0   \n",
      "building_area   5711.0   146.991288  132.056358     0.0    93.0   127.0   \n",
      "year_built      6549.0  1964.750649   37.616542  1196.0  1940.0  1970.0   \n",
      "\n",
      "                  75%     max   skewness  \n",
      "carport           2.0    10.0   1.320831  \n",
      "building_area   175.0  6791.0  26.249617  \n",
      "year_built     2000.0  2018.0  -1.768324  \n"
     ]
    }
   ],
   "source": [
    "# Melihat distribusi data kolom X train yang terdapat missing value\n",
    "stats= X_train[['carport', 'building_area', 'year_built']].describe().T\n",
    "\n",
    "# Menambahkan kolom skewness\n",
    "stats['skewness'] = X_train[['carport', 'building_area', 'year_built']].skew()\n",
    "\n",
    "# Menampilkan hasil\n",
    "print(stats)"
   ]
  },
  {
   "cell_type": "markdown",
   "id": "0adc0572",
   "metadata": {},
   "source": [
    "Dari distribusi data tersebut, kita mendapat informasi bahwa:\n",
    "1. Kolom `carport` memiliki skewness positif sebesar 1.32. Oleh sebab itu, handling missing value akan dilakukan dengan imputasi median.\n",
    "2. Kolom `building_area` memiliki skewness sangat positif sebesar 26.25. Oleh sebab itu, handling missing value akan dilakukan dengan imputasi median.\n",
    "3. Kolom `year_built` memiliki skewness negatif sebesar -1.77. Oleh sebab itu, handling missing value akan dilakukan dengan imputasi median."
   ]
  },
  {
   "cell_type": "code",
   "execution_count": 120,
   "id": "4976c913",
   "metadata": {},
   "outputs": [],
   "source": [
    "# Melakukan imputasi dengan median\n",
    "X_train['carport'].fillna(X_train['carport'].median(), inplace=True)\n",
    "X_train['building_area'].fillna(X_train['building_area'].median(), inplace=True)\n",
    "X_train['year_built'].fillna(X_train['year_built'].median(), inplace=True)\n",
    "X_test['carport'].fillna(X_test['carport'].median(), inplace=True)\n",
    "X_test['building_area'].fillna(X_test['building_area'].median(), inplace=True)\n",
    "X_test['year_built'].fillna(X_test['year_built'].median(), inplace=True)"
   ]
  },
  {
   "cell_type": "code",
   "execution_count": 121,
   "id": "72eab242",
   "metadata": {},
   "outputs": [
    {
     "data": {
      "text/plain": [
       "rooms             0\n",
       "type              0\n",
       "method            0\n",
       "date              0\n",
       "distance          0\n",
       "bedroom           0\n",
       "bathroom          0\n",
       "carport           0\n",
       "land_size         0\n",
       "building_area     0\n",
       "year_built        0\n",
       "region_name       0\n",
       "property_count    0\n",
       "suburb_freq       0\n",
       "dtype: int64"
      ]
     },
     "execution_count": 121,
     "metadata": {},
     "output_type": "execute_result"
    }
   ],
   "source": [
    "# Melakukan pengecekan missing value kembali pada X train\n",
    "X_train.isnull().sum()\n"
   ]
  },
  {
   "cell_type": "code",
   "execution_count": 122,
   "id": "4369addb",
   "metadata": {},
   "outputs": [
    {
     "data": {
      "text/plain": [
       "rooms             0\n",
       "type              0\n",
       "method            0\n",
       "date              0\n",
       "distance          0\n",
       "bedroom           0\n",
       "bathroom          0\n",
       "carport           0\n",
       "land_size         0\n",
       "building_area     0\n",
       "year_built        0\n",
       "region_name       0\n",
       "property_count    0\n",
       "suburb_freq       0\n",
       "dtype: int64"
      ]
     },
     "execution_count": 122,
     "metadata": {},
     "output_type": "execute_result"
    }
   ],
   "source": [
    "# Melakukan pengecekan missing value kembali pada X train\n",
    "X_test.isnull().sum()"
   ]
  },
  {
   "cell_type": "markdown",
   "id": "3548d74b",
   "metadata": {},
   "source": [
    "Data X train dan X test telah dilakukan handling missing value seluruhnya, sehingga kita akan bisa melanjutkan analisis untuk handling outlier."
   ]
  },
  {
   "cell_type": "markdown",
   "id": "a0426da8",
   "metadata": {},
   "source": [
    "### 5.6. Handling Outlier"
   ]
  },
  {
   "cell_type": "code",
   "execution_count": 123,
   "id": "eba9acbd",
   "metadata": {},
   "outputs": [
    {
     "data": {
      "text/plain": [
       "['rooms',\n",
       " 'distance',\n",
       " 'bedroom',\n",
       " 'bathroom',\n",
       " 'carport',\n",
       " 'land_size',\n",
       " 'building_area',\n",
       " 'year_built',\n",
       " 'property_count',\n",
       " 'suburb_freq']"
      ]
     },
     "execution_count": 123,
     "metadata": {},
     "output_type": "execute_result"
    }
   ],
   "source": [
    "# Menampilkan kolom numerikal\n",
    "num_cols"
   ]
  },
  {
   "cell_type": "code",
   "execution_count": 124,
   "id": "e09c2304",
   "metadata": {},
   "outputs": [
    {
     "name": "stdout",
     "output_type": "stream",
     "text": [
      "rooms: 0.36140119568470536\n",
      "distance: 1.6755375727751627\n",
      "bedroom: 0.8286143232083436\n",
      "bathroom: 1.3899408157799535\n",
      "carport: 1.316658041331678\n",
      "land_size: 27.568774696471465\n",
      "building_area: 35.90977391198388\n",
      "year_built: -2.4626419100282244\n",
      "property_count: 1.0848099759114698\n",
      "suburb_freq: 0.8949637951260289\n"
     ]
    }
   ],
   "source": [
    "# Mendefinisikan perhitungan skewness\n",
    "def check_skewness(df, *column_names):\n",
    "    return {col: df[col].skew() for col in column_names if col in df.columns}\n",
    "\n",
    "skewness_results = check_skewness(X_train, 'rooms',\n",
    " 'distance',\n",
    " 'bedroom',\n",
    " 'bathroom',\n",
    " 'carport',\n",
    " 'land_size',\n",
    " 'building_area',\n",
    " 'year_built',\n",
    " 'property_count',\n",
    " 'suburb_freq')\n",
    "\n",
    "# Menampilkan Skewness\n",
    "for col, skewness in skewness_results.items():\n",
    "    print(f\"{col}: {skewness}\")"
   ]
  },
  {
   "cell_type": "markdown",
   "id": "e83e320d",
   "metadata": {},
   "source": [
    "Selanjutnya kita akan melakukan pengelompokan jenis skew untuk seluruh kolom."
   ]
  },
  {
   "cell_type": "code",
   "execution_count": 125,
   "id": "ce02bf62",
   "metadata": {},
   "outputs": [
    {
     "name": "stdout",
     "output_type": "stream",
     "text": [
      "Normal: ['rooms']\n",
      "Skewed: ['distance', 'bedroom', 'bathroom', 'carport', 'property_count', 'suburb_freq']\n",
      "Extreme Skewed: ['land_size', 'building_area', 'year_built']\n"
     ]
    }
   ],
   "source": [
    "# Membuat variabel kosong untuk menampung kolom sesuai kategori skewnessnya masing-masing\n",
    "normal_columns = []\n",
    "skewed_columns = []\n",
    "extreme_skewed_columns = []\n",
    "\n",
    "# Membuat looping kategorisasi skewness\n",
    "for col, skewness in skewness_results.items():\n",
    "    if skewness < -2.0 or skewness > 2.0:\n",
    "        extreme_skewed_columns.append(col)\n",
    "    elif abs(skewness) <= 0.5: \n",
    "        normal_columns.append(col)\n",
    "    else:\n",
    "        skewed_columns.append(col)\n",
    "\n",
    "# Menampilkan hasil sesuai kategori skewness\n",
    "print(f\"Normal: {normal_columns}\\nSkewed: {skewed_columns}\\nExtreme Skewed: {extreme_skewed_columns}\")"
   ]
  },
  {
   "cell_type": "markdown",
   "id": "bae9573f",
   "metadata": {},
   "source": [
    "Setelah kita mengetahui kategori skewness masing-masing kolom, kita akan melakukan capping khusus untuk kolom yang memiliki skewness > 5, yaitu kolom  `landsize` dan `building_area`. Sebelum itu, kita akan melakukan perhitungan persentase outlier pada kedua kolom tersebut."
   ]
  },
  {
   "cell_type": "code",
   "execution_count": 126,
   "id": "aa59aeda",
   "metadata": {},
   "outputs": [
    {
     "name": "stdout",
     "output_type": "stream",
     "text": [
      "Persentase outlier pada kolom land_size: 1.62%\n",
      "Persentase outlier pada kolom building_area: 36.99%\n"
     ]
    }
   ],
   "source": [
    "# Membuat fungsi perhitungan persentase outlier\n",
    "def calculate_outlier_percentages_skew(df, columns, distance):\n",
    "    for variable in columns:\n",
    "        IQR = df[variable].quantile(0.75) - df[variable].quantile(0.25)\n",
    "        lower_boundary = df[variable].quantile(0.25) - (IQR * distance)\n",
    "        upper_boundary = df[variable].quantile(0.75) + (IQR * distance)\n",
    "\n",
    "        outliers = df[(df[variable] < lower_boundary) | (df[variable] > upper_boundary)]\n",
    "        outlier_percentage = len(outliers) / len(df) * 100\n",
    "\n",
    "        print('Persentase outlier pada kolom {}: {:.2f}%'.format(variable, outlier_percentage))\n",
    "\n",
    "# Menghitung persentase outlier sebelum handling outlier\n",
    "calculate_outlier_percentages_skew(X_train, ['land_size', 'building_area'], 3)"
   ]
  },
  {
   "cell_type": "markdown",
   "id": "600eff83",
   "metadata": {},
   "source": [
    "Berdasarkan persentase outlier kedua data yang sangat skewed, kita akan melakukan capping pada `building area` saja, karena persentase outliernya melebihi 5%."
   ]
  },
  {
   "cell_type": "code",
   "execution_count": 127,
   "id": "a4393c15",
   "metadata": {},
   "outputs": [
    {
     "data": {
      "image/png": "[encoded data removed]",
      "text/plain": [
       "<Figure size 1200x500 with 2 Axes>"
      ]
     },
     "metadata": {},
     "output_type": "display_data"
    }
   ],
   "source": [
    "# Menampilkan boxplot sebelum capping\n",
    "\n",
    "def plot_before(original, column):\n",
    "    fig, axes = plt.subplots(nrows=1, ncols=2, figsize=(12, 5))\n",
    "\n",
    "    # Membuat Boxplot\n",
    "    sns.histplot(original[column], bins=30, kde=True, ax=axes[0])\n",
    "    axes[0].set_title(f\"Histogram Sebelum Capping: {column}\")\n",
    "\n",
    "    # Membuat Histogram\n",
    "    sns.boxplot(x=original[column], ax=axes[1])\n",
    "    axes[1].set_title(f\"Boxplot Sebelum Capping: {column}\")\n",
    "\n",
    "    # Menampilkan grafik\n",
    "    plt.tight_layout()\n",
    "    plt.show()\n",
    "\n",
    "plot_before(X_train, 'building_area')"
   ]
  },
  {
   "cell_type": "markdown",
   "id": "a0cd06ef",
   "metadata": {},
   "source": [
    "Kemudian kita akan lakukan capping."
   ]
  },
  {
   "cell_type": "code",
   "execution_count": 128,
   "id": "2fef4a2d",
   "metadata": {},
   "outputs": [
    {
     "name": "stdout",
     "output_type": "stream",
     "text": [
      "Persentase outlier pada kolom building_area: 0.00%\n"
     ]
    }
   ],
   "source": [
    "# Membuat fungsi untuk Winsorization\n",
    "def apply_winsorization_skew(train, variables, capping_method='iqr', tail='both', fold=3):\n",
    "    winsoriser = Winsorizer(capping_method=capping_method, tail=tail, fold=fold, variables=variables)\n",
    "    train_capped = winsoriser.fit_transform(train)\n",
    "    return train_capped\n",
    "\n",
    "# Mendefinisikan kolom extreme skewed\n",
    "extreme_skewed_columns = ['building_area']\n",
    "\n",
    "# Memastikan Winsorizer untuk menangani outlier pada kolom building_area\n",
    "X_train_capped = apply_winsorization_skew(X_train, extreme_skewed_columns, fold=3)\n",
    "\n",
    "# Menghitung persentase outlier setelah handling outlier\n",
    "calculate_outlier_percentages_skew(X_train_capped, ['building_area'], 3)"
   ]
  },
  {
   "cell_type": "code",
   "execution_count": 129,
   "id": "b2b22991",
   "metadata": {},
   "outputs": [
    {
     "data": {
      "image/png": "[encoded data removed]",
      "text/plain": [
       "<Figure size 1400x500 with 2 Axes>"
      ]
     },
     "metadata": {},
     "output_type": "display_data"
    }
   ],
   "source": [
    "# Membuat variable kolom yang terdeteksi sebagai extreme skewed\n",
    "extreme_skewed_columns = ['building_area']\n",
    "\n",
    "# Membuat pengaturan grafik\n",
    "fig, axes = plt.subplots(nrows=1, ncols=2, figsize=(14, 5))\n",
    "\n",
    "# Membuat Boxplot\n",
    "sns.boxplot(data=X_train_capped[['building_area']], orient=\"h\", ax=axes[0])\n",
    "axes[0].set_title(\"Boxplot untuk 'building_area'\")\n",
    "axes[0].set_xlabel(\"Values\")\n",
    "axes[0].set_ylabel(\"\")\n",
    "\n",
    "# Membuat Histogram\n",
    "sns.histplot(data=X_train_capped['building_area'], bins=30, kde=True, ax=axes[1])\n",
    "axes[1].set_title(\"Histogram untuk 'building_area'\")\n",
    "axes[1].set_xlabel(\"Values\")\n",
    "axes[1].set_ylabel(\"Frequency\")\n",
    "\n",
    "# Menampilkan grafik\n",
    "plt.tight_layout()\n",
    "plt.show()"
   ]
  },
  {
   "cell_type": "markdown",
   "id": "b2ccb9d9",
   "metadata": {},
   "source": [
    "Dari boxplot tersebut, terlihat distribusi data outlier telah menjadi lebih stabil."
   ]
  },
  {
   "cell_type": "markdown",
   "id": "5894969d",
   "metadata": {},
   "source": [
    "### 5.7. Penyesuaian Tipe Data"
   ]
  },
  {
   "cell_type": "markdown",
   "id": "af9e739a",
   "metadata": {},
   "source": [
    "Kita akan menyesuaikan jenis tipe data berdasarkan value yang dimiliki oleh masing-masing kolom."
   ]
  },
  {
   "cell_type": "code",
   "execution_count": 130,
   "id": "dd41ee3f",
   "metadata": {},
   "outputs": [
    {
     "name": "stdout",
     "output_type": "stream",
     "text": [
      "<class 'pandas.core.frame.DataFrame'>\n",
      "Index: 10864 entries, 7372 to 9473\n",
      "Data columns (total 14 columns):\n",
      " #   Column          Non-Null Count  Dtype         \n",
      "---  ------          --------------  -----         \n",
      " 0   rooms           10864 non-null  int64         \n",
      " 1   type            10864 non-null  object        \n",
      " 2   method          10864 non-null  object        \n",
      " 3   date            10864 non-null  datetime64[ns]\n",
      " 4   distance        10864 non-null  float64       \n",
      " 5   bedroom         10864 non-null  Int64         \n",
      " 6   bathroom        10864 non-null  Int64         \n",
      " 7   carport         10864 non-null  Int64         \n",
      " 8   land_size       10864 non-null  float64       \n",
      " 9   building_area   10864 non-null  float64       \n",
      " 10  year_built      10864 non-null  Int64         \n",
      " 11  region_name     10864 non-null  object        \n",
      " 12  property_count  10864 non-null  Int64         \n",
      " 13  suburb_freq     10864 non-null  int64         \n",
      "dtypes: Int64(5), datetime64[ns](1), float64(3), int64(2), object(3)\n",
      "memory usage: 1.3+ MB\n"
     ]
    }
   ],
   "source": [
    "# Menyesuaikan kembali nama X_train\n",
    "X_train = X_train_capped.copy()\n",
    "\n",
    "# Merubah kolom tanggal menjadi datetime\n",
    "X_train['date'] = pd.to_datetime(df['date'], dayfirst=True)\n",
    "X_test['date'] = pd.to_datetime(df['date'], dayfirst=True)\n",
    "\n",
    "# Membuat variabel yang berisi kolom-kolom yang akan dirubah tipe datanya menjadi integer\n",
    "cols_to_int = ['bedroom', 'bathroom', 'carport', 'year_built', 'property_count']\n",
    "\n",
    "# Merubah kolom-kolom tertentu menjadi integer\n",
    "for col in cols_to_int:\n",
    "    X_train[col] = X_train[col].astype('Int64') \n",
    "    X_test[col] = X_test[col].astype('Int64')\n",
    "\n",
    "# Menampilkan info data pada X_train\n",
    "X_train.info()"
   ]
  },
  {
   "cell_type": "code",
   "execution_count": 131,
   "id": "f03e0ca3",
   "metadata": {},
   "outputs": [
    {
     "name": "stdout",
     "output_type": "stream",
     "text": [
      "<class 'pandas.core.frame.DataFrame'>\n",
      "Index: 2716 entries, 283 to 2766\n",
      "Data columns (total 14 columns):\n",
      " #   Column          Non-Null Count  Dtype         \n",
      "---  ------          --------------  -----         \n",
      " 0   rooms           2716 non-null   int64         \n",
      " 1   type            2716 non-null   object        \n",
      " 2   method          2716 non-null   object        \n",
      " 3   date            2716 non-null   datetime64[ns]\n",
      " 4   distance        2716 non-null   float64       \n",
      " 5   bedroom         2716 non-null   Int64         \n",
      " 6   bathroom        2716 non-null   Int64         \n",
      " 7   carport         2716 non-null   Int64         \n",
      " 8   land_size       2716 non-null   float64       \n",
      " 9   building_area   2716 non-null   float64       \n",
      " 10  year_built      2716 non-null   Int64         \n",
      " 11  region_name     2716 non-null   object        \n",
      " 12  property_count  2716 non-null   Int64         \n",
      " 13  suburb_freq     2716 non-null   int64         \n",
      "dtypes: Int64(5), datetime64[ns](1), float64(3), int64(2), object(3)\n",
      "memory usage: 331.5+ KB\n"
     ]
    }
   ],
   "source": [
    "# Menampilkan informasi data pada X_test\n",
    "X_test.info()"
   ]
  },
  {
   "cell_type": "markdown",
   "id": "693a0ceb",
   "metadata": {},
   "source": [
    "Seluruh data pada train dan test sudah disesuaikan tipenya."
   ]
  },
  {
   "cell_type": "markdown",
   "id": "eb2cb450",
   "metadata": {},
   "source": [
    "### 5.8. Feature Selection"
   ]
  },
  {
   "cell_type": "markdown",
   "id": "8d46d72d",
   "metadata": {},
   "source": [
    "Selanjutnya kita akan melakukan feature selection."
   ]
  },
  {
   "cell_type": "code",
   "execution_count": 132,
   "id": "9a8e76db",
   "metadata": {},
   "outputs": [
    {
     "data": {
      "text/html": [
       "<div>\n",
       "<style scoped>\n",
       "    .dataframe tbody tr th:only-of-type {\n",
       "        vertical-align: middle;\n",
       "    }\n",
       "\n",
       "    .dataframe tbody tr th {\n",
       "        vertical-align: top;\n",
       "    }\n",
       "\n",
       "    .dataframe thead th {\n",
       "        text-align: right;\n",
       "    }\n",
       "</style>\n",
       "<table border=\"1\" class=\"dataframe\">\n",
       "  <thead>\n",
       "    <tr style=\"text-align: right;\">\n",
       "      <th></th>\n",
       "      <th>rooms</th>\n",
       "      <th>type</th>\n",
       "      <th>method</th>\n",
       "      <th>date</th>\n",
       "      <th>distance</th>\n",
       "      <th>bedroom</th>\n",
       "      <th>bathroom</th>\n",
       "      <th>carport</th>\n",
       "      <th>land_size</th>\n",
       "      <th>building_area</th>\n",
       "      <th>year_built</th>\n",
       "      <th>region_name</th>\n",
       "      <th>property_count</th>\n",
       "      <th>suburb_freq</th>\n",
       "      <th>price</th>\n",
       "    </tr>\n",
       "  </thead>\n",
       "  <tbody>\n",
       "    <tr>\n",
       "      <th>7372</th>\n",
       "      <td>2</td>\n",
       "      <td>u</td>\n",
       "      <td>S</td>\n",
       "      <td>2016-09-24</td>\n",
       "      <td>2.5</td>\n",
       "      <td>2</td>\n",
       "      <td>1</td>\n",
       "      <td>1</td>\n",
       "      <td>0.0</td>\n",
       "      <td>127.0</td>\n",
       "      <td>2007</td>\n",
       "      <td>Northern Metropolitan</td>\n",
       "      <td>1123</td>\n",
       "      <td>25</td>\n",
       "      <td>565000.0</td>\n",
       "    </tr>\n",
       "    <tr>\n",
       "      <th>7793</th>\n",
       "      <td>3</td>\n",
       "      <td>h</td>\n",
       "      <td>S</td>\n",
       "      <td>2017-04-29</td>\n",
       "      <td>13.9</td>\n",
       "      <td>3</td>\n",
       "      <td>2</td>\n",
       "      <td>2</td>\n",
       "      <td>820.0</td>\n",
       "      <td>127.0</td>\n",
       "      <td>1970</td>\n",
       "      <td>Eastern Metropolitan</td>\n",
       "      <td>9028</td>\n",
       "      <td>116</td>\n",
       "      <td>1700000.0</td>\n",
       "    </tr>\n",
       "    <tr>\n",
       "      <th>5534</th>\n",
       "      <td>2</td>\n",
       "      <td>u</td>\n",
       "      <td>SP</td>\n",
       "      <td>2016-06-04</td>\n",
       "      <td>2.1</td>\n",
       "      <td>2</td>\n",
       "      <td>2</td>\n",
       "      <td>1</td>\n",
       "      <td>0.0</td>\n",
       "      <td>127.0</td>\n",
       "      <td>2001</td>\n",
       "      <td>Southern Metropolitan</td>\n",
       "      <td>5943</td>\n",
       "      <td>85</td>\n",
       "      <td>575000.0</td>\n",
       "    </tr>\n",
       "    <tr>\n",
       "      <th>8069</th>\n",
       "      <td>3</td>\n",
       "      <td>h</td>\n",
       "      <td>S</td>\n",
       "      <td>2017-05-13</td>\n",
       "      <td>11.2</td>\n",
       "      <td>3</td>\n",
       "      <td>2</td>\n",
       "      <td>2</td>\n",
       "      <td>711.0</td>\n",
       "      <td>148.0</td>\n",
       "      <td>1915</td>\n",
       "      <td>Southern Metropolitan</td>\n",
       "      <td>8801</td>\n",
       "      <td>117</td>\n",
       "      <td>2020000.0</td>\n",
       "    </tr>\n",
       "    <tr>\n",
       "      <th>5008</th>\n",
       "      <td>4</td>\n",
       "      <td>h</td>\n",
       "      <td>PI</td>\n",
       "      <td>2016-11-27</td>\n",
       "      <td>8.8</td>\n",
       "      <td>4</td>\n",
       "      <td>1</td>\n",
       "      <td>3</td>\n",
       "      <td>577.0</td>\n",
       "      <td>127.0</td>\n",
       "      <td>1970</td>\n",
       "      <td>Northern Metropolitan</td>\n",
       "      <td>14577</td>\n",
       "      <td>239</td>\n",
       "      <td>910000.0</td>\n",
       "    </tr>\n",
       "  </tbody>\n",
       "</table>\n",
       "</div>"
      ],
      "text/plain": [
       "      rooms type method       date  distance  bedroom  bathroom  carport  \\\n",
       "7372      2    u      S 2016-09-24       2.5        2         1        1   \n",
       "7793      3    h      S 2017-04-29      13.9        3         2        2   \n",
       "5534      2    u     SP 2016-06-04       2.1        2         2        1   \n",
       "8069      3    h      S 2017-05-13      11.2        3         2        2   \n",
       "5008      4    h     PI 2016-11-27       8.8        4         1        3   \n",
       "\n",
       "      land_size  building_area  year_built            region_name  \\\n",
       "7372        0.0          127.0        2007  Northern Metropolitan   \n",
       "7793      820.0          127.0        1970   Eastern Metropolitan   \n",
       "5534        0.0          127.0        2001  Southern Metropolitan   \n",
       "8069      711.0          148.0        1915  Southern Metropolitan   \n",
       "5008      577.0          127.0        1970  Northern Metropolitan   \n",
       "\n",
       "      property_count  suburb_freq      price  \n",
       "7372            1123           25   565000.0  \n",
       "7793            9028          116  1700000.0  \n",
       "5534            5943           85   575000.0  \n",
       "8069            8801          117  2020000.0  \n",
       "5008           14577          239   910000.0  "
      ]
     },
     "execution_count": 132,
     "metadata": {},
     "output_type": "execute_result"
    }
   ],
   "source": [
    "# Concatenate X_train dan y_train\n",
    "concat_train = pd.concat([X_train, y_train], axis=1)\n",
    "\n",
    "# Menampilkan data pada X_train\n",
    "concat_train.head()"
   ]
  },
  {
   "cell_type": "code",
   "execution_count": 133,
   "id": "37f4348d",
   "metadata": {},
   "outputs": [
    {
     "data": {
      "text/plain": [
       "Index(['rooms', 'type', 'method', 'date', 'distance', 'bedroom', 'bathroom',\n",
       "       'carport', 'land_size', 'building_area', 'year_built', 'region_name',\n",
       "       'property_count', 'suburb_freq', 'price'],\n",
       "      dtype='object')"
      ]
     },
     "execution_count": 133,
     "metadata": {},
     "output_type": "execute_result"
    }
   ],
   "source": [
    "# Melihat kolom pada data concat_train\n",
    "concat_train.columns"
   ]
  },
  {
   "cell_type": "markdown",
   "id": "e579f7d6",
   "metadata": {},
   "source": [
    "Lalu kita melihat korelasi antar fitur dengan target."
   ]
  },
  {
   "cell_type": "code",
   "execution_count": 134,
   "id": "35f4d2df",
   "metadata": {},
   "outputs": [
    {
     "name": "stdout",
     "output_type": "stream",
     "text": [
      "interval columns not set, guessing: ['rooms', 'distance', 'bedroom', 'bathroom', 'carport', 'land_size', 'building_area', 'year_built', 'property_count', 'suburb_freq', 'price']\n",
      "rooms             0.385101\n",
      "type              0.435943\n",
      "method            0.148517\n",
      "date              0.144611\n",
      "distance          0.195963\n",
      "bedroom           0.345192\n",
      "bathroom          0.510100\n",
      "carport           0.312805\n",
      "land_size         0.000000\n",
      "building_area     0.381070\n",
      "year_built        0.272885\n",
      "region_name       0.294943\n",
      "property_count    0.222723\n",
      "suburb_freq       0.184823\n",
      "price             1.000000\n",
      "Name: price, dtype: float64\n"
     ]
    }
   ],
   "source": [
    "# Membuat fungsi menghitung korelasi antar variabel\n",
    "def compute_phik_correlation(dataframe, columns, target):\n",
    "    subset = dataframe[all_columns]\n",
    "    correlation_matrix = subset.phik_matrix()\n",
    "    return correlation_matrix[target]\n",
    "\n",
    "# Mendefinisikan list kolom dan target\n",
    "columns = ['rooms', 'type', 'method', 'date', 'distance', 'bedroom', 'bathroom',\n",
    "       'carport', 'land_size', 'building_area', 'year_built', 'region_name',\n",
    "       'property_count', 'suburb_freq']\n",
    "target = 'price'\n",
    "\n",
    "all_columns = columns + [target]\n",
    "\n",
    "# Menghitung Phi-K correlation untuk setiap kolom\n",
    "correlation = compute_phik_correlation(concat_train, all_columns, target)\n",
    "\n",
    "# Menampilkan hasil\n",
    "print(correlation)"
   ]
  },
  {
   "cell_type": "markdown",
   "id": "2c790009",
   "metadata": {},
   "source": [
    "Berdasarkan hasil phi k, kita akan mendrop kolom `land_size` karena tidak memiliki korelasi sama sekali dengan target, yaitu `price`."
   ]
  },
  {
   "cell_type": "code",
   "execution_count": 135,
   "id": "c5ca3abb",
   "metadata": {},
   "outputs": [
    {
     "name": "stdout",
     "output_type": "stream",
     "text": [
      "Index(['rooms', 'type', 'method', 'date', 'distance', 'bedroom', 'bathroom',\n",
      "       'carport', 'building_area', 'year_built', 'region_name',\n",
      "       'property_count', 'suburb_freq'],\n",
      "      dtype='object')\n",
      "Index(['rooms', 'type', 'method', 'date', 'distance', 'bedroom', 'bathroom',\n",
      "       'carport', 'building_area', 'year_built', 'region_name',\n",
      "       'property_count', 'suburb_freq'],\n",
      "      dtype='object')\n"
     ]
    }
   ],
   "source": [
    "# Menyisihkan kolom land_size\n",
    "X_train_updated = X_train.drop(columns=['land_size'])\n",
    "X_test_updated = X_test.drop(columns=['land_size'])\n",
    "\n",
    "# Menampilkan kolom\n",
    "print(X_train_updated .columns)\n",
    "print(X_test_updated.columns)"
   ]
  },
  {
   "cell_type": "code",
   "execution_count": 136,
   "id": "e6ecb9b5",
   "metadata": {},
   "outputs": [
    {
     "data": {
      "text/plain": [
       "rooms                      int64\n",
       "type                      object\n",
       "method                    object\n",
       "date              datetime64[ns]\n",
       "distance                 float64\n",
       "bedroom                    Int64\n",
       "bathroom                   Int64\n",
       "carport                    Int64\n",
       "building_area            float64\n",
       "year_built                 Int64\n",
       "region_name               object\n",
       "property_count             Int64\n",
       "suburb_freq                int64\n",
       "dtype: object"
      ]
     },
     "execution_count": 136,
     "metadata": {},
     "output_type": "execute_result"
    }
   ],
   "source": [
    "# Menampilkan tipe data\n",
    "X_train_updated.dtypes"
   ]
  },
  {
   "cell_type": "code",
   "execution_count": 137,
   "id": "6f7f8010",
   "metadata": {},
   "outputs": [],
   "source": [
    "# Penyesuaian nama\n",
    "X_train = X_train_updated.copy()\n",
    "X_test = X_test_updated.copy()"
   ]
  },
  {
   "cell_type": "markdown",
   "id": "35c1e551",
   "metadata": {},
   "source": [
    "### 5.9. Pemisahan Kolom Numerikal dan Kategorikal "
   ]
  },
  {
   "cell_type": "markdown",
   "id": "e1d4b3fd",
   "metadata": {},
   "source": [
    "Setelah dilakukan feature selection, kita akan melakukan pemisahan Kolom Numerikal dan Kolom Kategorikal sebelum dilakukan feature scaling dan encoding."
   ]
  },
  {
   "cell_type": "code",
   "execution_count": 138,
   "id": "cf062089",
   "metadata": {},
   "outputs": [
    {
     "name": "stdout",
     "output_type": "stream",
     "text": [
      "Numerical columns:\n",
      "['rooms', 'distance', 'bedroom', 'bathroom', 'carport', 'building_area', 'year_built', 'property_count', 'suburb_freq']\n",
      "Categorical columns:\n",
      "['type', 'method', 'region_name']\n"
     ]
    }
   ],
   "source": [
    "# Mengelompokkan kolom numerikal dan kategorikal\n",
    "num_cols = ['rooms', 'distance', 'bedroom', 'bathroom', 'carport', 'building_area', 'year_built', 'property_count', 'suburb_freq']\n",
    "cat_cols = ['type', 'method', 'region_name']\n",
    "print(f'Numerical columns:\\n{num_cols}')\n",
    "print(f'Categorical columns:\\n{cat_cols}')"
   ]
  },
  {
   "cell_type": "markdown",
   "id": "9b5ee621",
   "metadata": {},
   "source": [
    "### 5.10. Feature Scaling and Encoding"
   ]
  },
  {
   "cell_type": "markdown",
   "id": "2c57fab7",
   "metadata": {},
   "source": [
    "Pada bagian ini, kita akan melakukan feature scaling dan encoding sebelum melakukan training models."
   ]
  },
  {
   "cell_type": "code",
   "execution_count": 139,
   "id": "b090051a",
   "metadata": {},
   "outputs": [
    {
     "name": "stdout",
     "output_type": "stream",
     "text": [
      "Train Size:  (10864, 25)\n",
      "Test Size:  (2716, 25)\n"
     ]
    }
   ],
   "source": [
    "# Pipeline untuk fitur numerik\n",
    "numeric_pipeline = Pipeline(steps=[\n",
    "    ('scaler', StandardScaler())\n",
    "])\n",
    "\n",
    "# Pipeline untuk fitur kategorik\n",
    "categorical_pipeline = Pipeline(steps=[\n",
    "    ('encoder', OneHotEncoder(handle_unknown='ignore', sparse_output=False))\n",
    "])\n",
    "\n",
    "preprocessor = ColumnTransformer(transformers=[\n",
    "    ('num', numeric_pipeline, num_cols),\n",
    "    ('cat', categorical_pipeline, cat_cols)\n",
    "])\n",
    "\n",
    "# Menerapkan scaling pada data pelatihan\n",
    "X_train_scaled = preprocessor.fit_transform(X_train)\n",
    "\n",
    "# Menggunakan transform untuk data pengujian\n",
    "X_test_scaled = preprocessor.transform(X_test)\n",
    "\n",
    "print('Train Size: ', X_train_scaled.shape)\n",
    "print('Test Size: ', X_test_scaled.shape)"
   ]
  },
  {
   "cell_type": "markdown",
   "id": "247e76c2",
   "metadata": {},
   "source": [
    "# 6. Model Definition"
   ]
  },
  {
   "cell_type": "markdown",
   "id": "bb1ef31f",
   "metadata": {},
   "source": [
    "Pada bagian ini, kita akan membuat definisi model yang akan digunakan."
   ]
  },
  {
   "cell_type": "markdown",
   "id": "cfe67422",
   "metadata": {},
   "source": [
    "### 6.1 K-Nearest Neighbors (KNN) "
   ]
  },
  {
   "cell_type": "code",
   "execution_count": 140,
   "id": "eb32820e",
   "metadata": {},
   "outputs": [],
   "source": [
    "# Membuat pipeline KNN\n",
    "knn_pipe = Pipeline([('preprocessor', preprocessor), ('knn', KNeighborsRegressor())])"
   ]
  },
  {
   "cell_type": "markdown",
   "id": "a3b3d673",
   "metadata": {},
   "source": [
    "### 6.2 Support Vector Machine (SVM) "
   ]
  },
  {
   "cell_type": "code",
   "execution_count": 141,
   "id": "6131ef70",
   "metadata": {},
   "outputs": [],
   "source": [
    "# Membuat pipeline SVM\n",
    "svm_pipe = Pipeline([('preprocessor', preprocessor), ('svm', SVR())])"
   ]
  },
  {
   "cell_type": "markdown",
   "id": "bfe2b8fb",
   "metadata": {},
   "source": [
    "### 6.3 Decision Tree"
   ]
  },
  {
   "cell_type": "code",
   "execution_count": 142,
   "id": "0f6322e7",
   "metadata": {},
   "outputs": [],
   "source": [
    "# Membuat pipeline Decision Tree\n",
    "dt_pipe = Pipeline([('preprocessor', preprocessor),('dt', DecisionTreeRegressor(random_state=28))])"
   ]
  },
  {
   "cell_type": "markdown",
   "id": "04a5d444",
   "metadata": {},
   "source": [
    "### 6.4 Random Forest"
   ]
  },
  {
   "cell_type": "code",
   "execution_count": 143,
   "id": "f0377a07",
   "metadata": {},
   "outputs": [],
   "source": [
    "# Membuat pipeline Random Forest\n",
    "rf_pipe = Pipeline([('preprocessor', preprocessor),('rf', RandomForestRegressor(random_state=28))])"
   ]
  },
  {
   "cell_type": "markdown",
   "id": "dbbd60dc",
   "metadata": {},
   "source": [
    "### 6.5 Gradient Boosting"
   ]
  },
  {
   "cell_type": "code",
   "execution_count": 144,
   "id": "ae82c6aa",
   "metadata": {},
   "outputs": [],
   "source": [
    "# Membuat pipeline GB (Gradient Boosting)\n",
    "gb_pipe = Pipeline([('preprocessor', preprocessor),('gb', GradientBoostingRegressor())])"
   ]
  },
  {
   "cell_type": "markdown",
   "id": "2a0b6344",
   "metadata": {},
   "source": [
    "# 7. Model Training"
   ]
  },
  {
   "cell_type": "markdown",
   "id": "61e2711b",
   "metadata": {},
   "source": [
    "Paga bagian ini, kita akan melakukan training model sesuai pipeline yang telah kita siapkan pada bagian sebelumnya."
   ]
  },
  {
   "cell_type": "markdown",
   "id": "736efe82",
   "metadata": {},
   "source": [
    "### 7.1. Cross Validation Score - Before Tuning"
   ]
  },
  {
   "cell_type": "code",
   "execution_count": 145,
   "id": "24ba8d31",
   "metadata": {},
   "outputs": [
    {
     "name": "stdout",
     "output_type": "stream",
     "text": [
      "Evaluating knn_model ...\n",
      "R2 Scores: [0.62604871 0.65461232 0.60468287 0.63755213 0.60374869]\n",
      "Mean R2: 0.6253 ± 0.0195\n",
      "Mean MAE: 241360.8584 ± 5372.6878\n",
      "Mean RMSE: 394066.0134 ± 10179.2063\n",
      "--------------------------------------------------\n",
      "Evaluating svm_model ...\n",
      "R2 Scores: [-0.05716824 -0.08346948 -0.07760346 -0.07992709 -0.0658636 ]\n",
      "Mean R2: -0.0728 ± 0.0098\n",
      "Mean MAE: 442604.3733 ± 7319.3531\n",
      "Mean RMSE: 667156.9684 ± 12969.2054\n",
      "--------------------------------------------------\n",
      "Evaluating dt_model ...\n",
      "R2 Scores: [0.52332937 0.52981994 0.51961239 0.48469308 0.53432451]\n",
      "Mean R2: 0.5184 ± 0.0176\n",
      "Mean MAE: 264980.7005 ± 6605.8995\n",
      "Mean RMSE: 447031.7931 ± 14479.3402\n",
      "--------------------------------------------------\n",
      "Evaluating rf_model ...\n",
      "R2 Scores: [0.73397264 0.72705718 0.70850603 0.71847207 0.70057292]\n",
      "Mean R2: 0.7177 ± 0.0121\n",
      "Mean MAE: 206002.7483 ± 4296.3275\n",
      "Mean RMSE: 342163.2221 ± 10180.6437\n",
      "--------------------------------------------------\n",
      "Evaluating gb_model ...\n",
      "R2 Scores: [0.73348723 0.72084579 0.70603382 0.70564447 0.6903847 ]\n",
      "Mean R2: 0.7113 ± 0.0147\n",
      "Mean MAE: 211877.9681 ± 5274.6413\n",
      "Mean RMSE: 345853.0943 ± 12719.0080\n",
      "--------------------------------------------------\n",
      "Best model based on mean R2: rf_model with R2 = 0.7177\n"
     ]
    }
   ],
   "source": [
    "# Membuat variable yang berisi list model yang akan digunakan\n",
    "models = {\n",
    "    'knn_model': knn_pipe,\n",
    "    'svm_model': svm_pipe,\n",
    "    'dt_model': dt_pipe,\n",
    "    'rf_model': rf_pipe,\n",
    "    'gb_model': gb_pipe\n",
    "}\n",
    "\n",
    "# Membuat variabel kfold\n",
    "kf = KFold(n_splits=5, shuffle=True, random_state=28)\n",
    "\n",
    "# Pemakaian metrik r2, neg_mean_absolute_error, dan neg_root_mean_squared_error\n",
    "best_model_name = None\n",
    "best_r2 = -float('inf')\n",
    "\n",
    "for name, model in models.items():\n",
    "    print(f\"Evaluating {name} ...\")\n",
    "    \n",
    "    r2_scores = cross_val_score(model, X_train, y_train, cv=kf, scoring='r2')\n",
    "    mae_scores = cross_val_score(model, X_train, y_train, cv=kf, scoring='neg_mean_absolute_error')\n",
    "    rmse_scores = cross_val_score(model, X_train, y_train, cv=kf, scoring='neg_root_mean_squared_error')\n",
    "    \n",
    "    print(f\"R2 Scores: {r2_scores}\")\n",
    "    print(f\"Mean R2: {r2_scores.mean():.4f} ± {r2_scores.std():.4f}\")\n",
    "    print(f\"Mean MAE: {-mae_scores.mean():.4f} ± {mae_scores.std():.4f}\")\n",
    "    print(f\"Mean RMSE: {-rmse_scores.mean():.4f} ± {rmse_scores.std():.4f}\")\n",
    "    print(\"-\" * 50)\n",
    "    \n",
    "    # Menentukan model terbaik berdasarkan mean R2 terbesar\n",
    "    if r2_scores.mean() > best_r2:\n",
    "        best_r2 = r2_scores.mean()\n",
    "        best_model_name = name\n",
    "\n",
    "# Menampilkan model terbaik\n",
    "print(f\"Best model based on mean R2: {best_model_name} with R2 = {best_r2:.4f}\")"
   ]
  },
  {
   "cell_type": "markdown",
   "id": "5af0df62",
   "metadata": {},
   "source": [
    "Dari hasil training awal tanpa tuning, informasi yang kita peroleh adalah:\n",
    "1. Model Random Forest (`rf_model`) merupakan model baseline terbaik dengan R2 terbaik dan MAE dan RMSE terendah. Hal ini akan membuat prediksi lebih akurat dan error yang dihasilkan lebih sedikit kemungkinannya.\n",
    "2. SVMatau (`svm_model`) memiliki nilai yang rendah, sehingga tidak cocok untuk digunakan pada data ini.\n",
    "3. Model lain seperti KNN (`knn_model`), Decision Tree (`dt_model`), dan Gradient Boosting (`gb_model`) memiliki nilai cukup baik namun tidak melampaui performa dari Random Forest."
   ]
  },
  {
   "cell_type": "markdown",
   "id": "3a28cf78",
   "metadata": {},
   "source": [
    "Setelah melakukan training baseline model, kita akan mencoba meningkatkan performa model dengan hyperparameter tuning."
   ]
  },
  {
   "cell_type": "markdown",
   "id": "e9aba76a",
   "metadata": {},
   "source": [
    "### 7.2. Hyperparameter Tuning"
   ]
  },
  {
   "cell_type": "markdown",
   "id": "d1967487",
   "metadata": {},
   "source": [
    "Pada bagian ini, kita akan melakukan tuning terhadap hasil training pada tahap sebelumnya."
   ]
  },
  {
   "cell_type": "markdown",
   "id": "2e7dc439",
   "metadata": {},
   "source": [
    "##### 7.2.1 Hyperparameter Tuning - Grid Search"
   ]
  },
  {
   "cell_type": "code",
   "execution_count": 146,
   "id": "a162b8b9",
   "metadata": {},
   "outputs": [
    {
     "name": "stdout",
     "output_type": "stream",
     "text": [
      "Fitting 5 folds for each of 81 candidates, totalling 405 fits\n",
      "Best hyperparameters (GridSearchCV): {'rf__max_depth': None, 'rf__min_samples_leaf': 4, 'rf__min_samples_split': 2, 'rf__n_estimators': 300}\n",
      "Best R2 score (GridSearchCV): 0.7302612515634235\n"
     ]
    }
   ],
   "source": [
    "# Membuat parameter tuning dengan GridSearchCV\n",
    "param_grid_rf = {\n",
    "    'rf__n_estimators': [100, 200, 300],\n",
    "    'rf__max_depth': [None, 10, 20],\n",
    "    'rf__min_samples_split': [2, 5, 10],\n",
    "    'rf__min_samples_leaf': [1, 2, 4]\n",
    "}\n",
    "\n",
    "grid_search_rf = GridSearchCV(\n",
    "    rf_pipe,               \n",
    "    param_grid=param_grid_rf,\n",
    "    scoring='r2',       \n",
    "    cv=5,\n",
    "    verbose=2,\n",
    "    n_jobs=-1\n",
    ")\n",
    "\n",
    "# Fit GridSearchCV\n",
    "grid_search_rf.fit(X_train, y_train)\n",
    "\n",
    "# Menampilkan 0utput hasil terbaik\n",
    "print('Best hyperparameters (GridSearchCV):', grid_search_rf.best_params_)\n",
    "print('Best R2 score (GridSearchCV):', grid_search_rf.best_score_)\n",
    "\n",
    "# Menyimpan model terbaik\n",
    "best_rf_model_grid = grid_search_rf.best_estimator_"
   ]
  },
  {
   "cell_type": "markdown",
   "id": "e21583b9",
   "metadata": {},
   "source": [
    "##### 7.2.2 Hyperparameter Tuning - Random Search"
   ]
  },
  {
   "cell_type": "code",
   "execution_count": 147,
   "id": "1c39dc79",
   "metadata": {},
   "outputs": [
    {
     "name": "stdout",
     "output_type": "stream",
     "text": [
      "Fitting 5 folds for each of 20 candidates, totalling 100 fits\n",
      "Best hyperparameters (RandomizedSearchCV): {'rf__n_estimators': 500, 'rf__min_samples_split': 5, 'rf__min_samples_leaf': 4, 'rf__max_depth': 20}\n",
      "Best R2 score (RandomizedSearchCV): 0.7306413516261594\n"
     ]
    }
   ],
   "source": [
    "# Membuat parameter tuning dengan RandomizedSearchCV\n",
    "param_dist_rf = {\n",
    "    'rf__n_estimators': [100, 200, 300, 400, 500],\n",
    "    'rf__max_depth': [None, 10, 20, 30, 40],\n",
    "    'rf__min_samples_split': [2, 5, 10, 15],\n",
    "    'rf__min_samples_leaf': [1, 2, 4, 6]\n",
    "}\n",
    "\n",
    "random_search_rf = RandomizedSearchCV(\n",
    "    rf_pipe,              \n",
    "    param_distributions=param_dist_rf,\n",
    "    n_iter=20,             \n",
    "    scoring='r2',          \n",
    "    cv=5,\n",
    "    verbose=2,\n",
    "    n_jobs=-1,\n",
    "    random_state=42\n",
    ")\n",
    "\n",
    "# Fit RandomizedSearchCV\n",
    "random_search_rf.fit(X_train, y_train)\n",
    "\n",
    "# Menampilkan output hasil terbaik\n",
    "print('Best hyperparameters (RandomizedSearchCV):', random_search_rf.best_params_)\n",
    "print('Best R2 score (RandomizedSearchCV):', random_search_rf.best_score_)\n",
    "\n",
    "# Menyimpan model terbaik\n",
    "best_rf_model_random = random_search_rf.best_estimator_"
   ]
  },
  {
   "cell_type": "markdown",
   "id": "92c22346",
   "metadata": {},
   "source": [
    "Setelah dilakukan dua jenis hyperparameter tuning, hasil R2 score dari Random Forest sebagai model terbaik memiliki nilai yang hampir sama, yaitu sekitar 0.73. Pada perbandingan hasil setelah tuning dengan Cross Validation, kita akan mengambil hasil dari tuning dengan Grid Search."
   ]
  },
  {
   "cell_type": "markdown",
   "id": "32aedebe",
   "metadata": {},
   "source": [
    "### 7.3. Cross Validation - After Tuning"
   ]
  },
  {
   "cell_type": "code",
   "execution_count": 148,
   "id": "43a71335",
   "metadata": {},
   "outputs": [
    {
     "name": "stdout",
     "output_type": "stream",
     "text": [
      "      Metric  Before Tuning After Tuning (mean ± std)\n",
      "0    R2 Mean         0.7128           0.7335 ± 0.0136\n",
      "1   MAE Mean    207599.0000       199973.41 ± 3726.90\n",
      "2  RMSE Mean    344882.0000      332470.89 ± 11735.03\n"
     ]
    }
   ],
   "source": [
    "# Hasil Cross validation sebelum tuning\n",
    "r2_before = 0.7128\n",
    "mae_before = 207599\n",
    "rmse_before = 344882\n",
    "\n",
    "# Hasil Cross validation setelah tuning dengan grid search:\n",
    "best_model = best_rf_model_grid  \n",
    "\n",
    "kf = KFold(n_splits=5, shuffle=True, random_state=28)\n",
    "\n",
    "r2_scores_after = cross_val_score(best_model, X_train, y_train, cv=kf, scoring='r2')\n",
    "mae_scores_after = cross_val_score(best_model, X_train, y_train, cv=kf, scoring='neg_mean_absolute_error')\n",
    "rmse_scores_after = cross_val_score(best_model, X_train, y_train, cv=kf, scoring='neg_root_mean_squared_error')\n",
    "\n",
    "r2_mean_after = r2_scores_after.mean()\n",
    "r2_std_after = r2_scores_after.std()\n",
    "mae_mean_after = -mae_scores_after.mean()\n",
    "mae_std_after = mae_scores_after.std()\n",
    "rmse_mean_after = -rmse_scores_after.mean()\n",
    "rmse_std_after = rmse_scores_after.std()\n",
    "\n",
    "# --- Membuat tabel perbandingan ---\n",
    "\n",
    "comparison_df = pd.DataFrame({\n",
    "    'Metric': ['R2 Mean', 'MAE Mean', 'RMSE Mean'],\n",
    "    'Before Tuning': [r2_before, mae_before, rmse_before],\n",
    "    'After Tuning (mean ± std)': [\n",
    "        f\"{r2_mean_after:.4f} ± {r2_std_after:.4f}\",\n",
    "        f\"{mae_mean_after:.2f} ± {mae_std_after:.2f}\",\n",
    "        f\"{rmse_mean_after:.2f} ± {rmse_std_after:.2f}\"\n",
    "    ]\n",
    "})\n",
    "\n",
    "print(comparison_df)"
   ]
  },
  {
   "cell_type": "markdown",
   "id": "5f76d9b0",
   "metadata": {},
   "source": [
    "Setelah dilakukan training sebelum dan sesudah training, informasi yang kita dapat adalah:\n",
    "1. Nilai R2 mean meningkat sekitar 0.02, sehingga setelah dilakukan tuning, model akan membuat prediksi yang lebih akurat dari sebelumnya.\n",
    "2. Nilai MAE menurun sekitar 8000, sehingga setelah dilakukan tuning, model akan membuat prediksi lebih mendekati ke nilai asli.\n",
    "3. Nilai RMSE menurun sekitar 12000, sehingga setelah dilakuakn tuning, model akan membuat prediksi dengan lebih konsisten dan lebih sedikit error."
   ]
  },
  {
   "cell_type": "markdown",
   "id": "b6cd6e9c",
   "metadata": {},
   "source": [
    "Setelah melakukan model training, kita akan melakukan evaluasi terhadap penggunaan model-model tersebut."
   ]
  },
  {
   "cell_type": "markdown",
   "id": "4b3b5ebd",
   "metadata": {},
   "source": [
    "# 8. Model Evaluation"
   ]
  },
  {
   "cell_type": "markdown",
   "id": "d5368c24",
   "metadata": {},
   "source": [
    "Kita akan mengevaluasi penggunaan model yang telah dilakukan pada bagian Model Training sebelumnya."
   ]
  },
  {
   "cell_type": "code",
   "execution_count": 149,
   "id": "e74ce7d1",
   "metadata": {},
   "outputs": [
    {
     "name": "stdout",
     "output_type": "stream",
     "text": [
      "MAE - Train Set  :  145663.49736334325\n",
      "MAE - Test Set   :  196596.81738884695\n",
      "\n",
      "MSE - Train Set  :  62194973543.75093\n",
      "MSE - Test Set   :  105971262127.78065\n",
      "\n",
      "RMSE - Train Set :  249389.20093650994\n",
      "RMSE - Test Set  :  325532.27509385406\n",
      "\n",
      "R2 Score - Train Set :  0.850168713023471\n",
      "R2 Score - Test Set  :  0.7229584354262217\n",
      "\n"
     ]
    }
   ],
   "source": [
    "# Predict Train and Test sets\n",
    "y_pred_train = best_rf_model_random.predict(X_train)\n",
    "y_pred_test = best_rf_model_random.predict(X_test)\n",
    "\n",
    "# Evaluation metrics\n",
    "print('MAE - Train Set  : ', mean_absolute_error(y_train, y_pred_train))\n",
    "print('MAE - Test Set   : ', mean_absolute_error(y_test, y_pred_test))\n",
    "print()\n",
    "\n",
    "print('MSE - Train Set  : ', mean_squared_error(y_train, y_pred_train))\n",
    "print('MSE - Test Set   : ', mean_squared_error(y_test, y_pred_test))\n",
    "print()\n",
    "\n",
    "print('RMSE - Train Set : ', mean_squared_error(y_train, y_pred_train, squared=False))\n",
    "print('RMSE - Test Set  : ', mean_squared_error(y_test, y_pred_test, squared=False))\n",
    "print()\n",
    "\n",
    "print('R2 Score - Train Set : ', r2_score(y_train, y_pred_train))\n",
    "print('R2 Score - Test Set  : ', r2_score(y_test, y_pred_test))\n",
    "print()"
   ]
  },
  {
   "cell_type": "markdown",
   "id": "bc0ecde3",
   "metadata": {},
   "source": [
    "Dari hasil evaluasi di atas, informasi yang dapat kita peroleh adalah:\n",
    "1. Selisih nilai MAE antara data Train dan Test tidak terlalu besar, sehingga dapat dikatakan bahwa model tidak overfit meskipun nilai error meningkat pada test set.\n",
    "2. Nilai RMSE pada data test lebih besar. Hal ini menunjukkan bahwa performa model menurun di data baru walaupun performanya masih dapat dianggap stabil.\n",
    "3. Melalui nilai R2 yang berada di atas 0.70, dapat diasumsikan bahwa model memiliki performa yang cukup baik."
   ]
  },
  {
   "cell_type": "markdown",
   "id": "ee79b837",
   "metadata": {},
   "source": [
    "# 9. Model Saving\n",
    "\n"
   ]
  },
  {
   "cell_type": "code",
   "execution_count": 150,
   "id": "d6c0dbb0",
   "metadata": {},
   "outputs": [],
   "source": [
    "# Menyimpan Model\n",
    "import json\n",
    "joblib.dump(best_rf_model_random, \"best_model_rf.pkl\")\n",
    "\n",
    "features = X_train.columns.tolist()\n",
    "with open(\"features_rf.json\", \"w\") as f:\n",
    "    json.dump(features, f)"
   ]
  },
  {
   "cell_type": "markdown",
   "id": "1f4c5ae5",
   "metadata": {},
   "source": [
    "# 10. Kesimpulan dan Rekomendasi"
   ]
  },
  {
   "cell_type": "markdown",
   "id": "5f2575d7",
   "metadata": {},
   "source": [
    "### 10.1. Kesimpulan \n",
    "\n",
    "Berdasarkan hasil analisis dan pembuatan machine learning ini, kesimpulan yang didapat adalah:\n",
    "1. Model Random Forest lebih akurat dan dapat melakukan generalisasi secara lebih baik. Dengan menggabungkan prediksi dari banyak pohon, Random Forest cenderung memiliki performa lebih baik dan mengurangi risiko overfitting. Selain itu, Random Forest kurang terpengaruh oleh perubahan kecil dalam data. Algoritma ini lebih efisien untuk dataset berjumlah besar. \n",
    "\n",
    "2. Performa Model Setelah Tuning:\n",
    "        R² Score (Test Set) : meningkat dari sekitar 0.713 menjadi 0.733, menandakan bahwa terjadi peningkatan kemampuan model dalam melakukan prediksi variasi harga rumah.\n",
    "        MAE (Test Set)      : menurun dari 207599  menjadi 199973, menandakan bahwa rata-rata kesalahan prediksi harga menurun.\n",
    "        RMSE (Test Set)     : menurun dari 344882 menjadi 332471, menandakan penurunan deviasi prediksi dari nilai aktual.\n",
    "\n",
    "3. Tidak terjadi overfit walau terdapat perbedaan performa dari data Train dan Test. \n",
    "\n",
    "### 10.2. Rekomendasi dan Insight Bisnis\n",
    "\n",
    "Rekomendasi serta insight bisnis yang dapat diambil dari hasil analisis project ini adalah:\n",
    "\n",
    "1. Seluruh user seperti masyarakat, agen, developer, investor, dan lain-lain dapat menghitung harga rumah / bangunan lainnya dengan lebih baik.\n",
    "2. Berdasarkan dataset yang dianalisis, variabel paling berpengaruh antara lain tipe properti, luas bangunan, serta jumlah ruangan (baik kamar maupun kamar mandi). Developer, investor, atau masyarakat umumm dapat memperhatikan ketiga variable ini untuk melakukan jual beli properti.\n",
    "3. User dapat menggunakan model ini untuk dapat menghitung harga wajar dari sebuah properti. Namun, perhitungan terbaik tetap harus dilakukan melalui tim independen yang bekerja secara profesional untuk melakukan valuasi properti.\n"
   ]
  }
 ],
 "metadata": {
  "kernelspec": {
   "display_name": "base",
   "language": "python",
   "name": "python3"
  },
  "language_info": {
   "codemirror_mode": {
    "name": "ipython",
    "version": 3
   },
   "file_extension": ".py",
   "mimetype": "text/x-python",
   "name": "python",
   "nbconvert_exporter": "python",
   "pygments_lexer": "ipython3",
   "version": "3.12.7"
  }
 },
 "nbformat": 4,
 "nbformat_minor": 5
}
