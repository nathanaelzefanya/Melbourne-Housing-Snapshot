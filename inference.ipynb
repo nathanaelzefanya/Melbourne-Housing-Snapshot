{
 "cells": [
  {
   "cell_type": "code",
   "execution_count": 1,
   "id": "abd69620",
   "metadata": {},
   "outputs": [],
   "source": [
    "# import library\n",
    "import pandas as pd\n",
    "import joblib\n",
    "import json\n",
    "import numpy as np"
   ]
  },
  {
   "cell_type": "code",
   "execution_count": 2,
   "id": "666b7dff",
   "metadata": {},
   "outputs": [],
   "source": [
    "# load model\n",
    "model = joblib.load('best_model_rf.pkl')\n",
    "with open('features_rf.json','r') as f:\n",
    "    feature = json.load(f)"
   ]
  },
  {
   "cell_type": "code",
   "execution_count": 3,
   "id": "134153f1",
   "metadata": {},
   "outputs": [],
   "source": [
    "# Membuat data dummy\n",
    "np.random.seed(99)\n",
    "\n",
    "df_dummy = pd.DataFrame({\n",
    "    'rooms': np.random.randint(1, 6, 500),\n",
    "    'type': np.random.choice(['h', 'u', 't'], 500),\n",
    "    'method': np.random.choice(['S', 'SP', 'VB', 'PI', 'SA'], 500),\n",
    "    'date': pd.to_datetime(np.random.choice(pd.date_range(start='2016-01-01', end='2018-12-31'), 500)).strftime('%Y-%m-%d'),\n",
    "    'distance': np.random.uniform(0.1, 50.0, 500),\n",
    "    'bedroom': np.random.randint(1, 6, 500),\n",
    "    'bathroom': np.random.randint(1, 4, 500),\n",
    "    'carport': np.random.randint(0, 3, 500),\n",
    "    'building_area': np.random.uniform(30.0, 300.0, 500),\n",
    "    'year_built': np.random.randint(1900, 2021, 500),\n",
    "    'region_name': np.random.choice([\n",
    "        'Southern Metropolitan', 'Northern Metropolitan', 'Eastern Metropolitan',\n",
    "        'Western Metropolitan', 'Eastern Victoria', 'Western Victoria',\n",
    "        'Southern Victoria', 'Northern Victoria'\n",
    "    ], 500),\n",
    "    'property_count': np.random.randint(100, 20000, 500),\n",
    "    'suburb_freq': np.random.uniform(0.0005, 0.05, 500)\n",
    "})"
   ]
  },
  {
   "cell_type": "code",
   "execution_count": 4,
   "id": "1136fab8",
   "metadata": {},
   "outputs": [
    {
     "name": "stdout",
     "output_type": "stream",
     "text": [
      "Prediksi harga: 1398202.1633715166\n"
     ]
    }
   ],
   "source": [
    "# Contoh data inference\n",
    "df_user = pd.DataFrame([{\n",
    "    'rooms': 2,\n",
    "    'type': 'h',             \n",
    "    'method': 'S',          \n",
    "    'date': '2018-07-15',    \n",
    "    'distance': 10.5,\n",
    "    'bedroom': 3,\n",
    "    'bathroom': 2,\n",
    "    'carport': 1,\n",
    "    'building_area': 150.0,\n",
    "    'year_built': 1995,\n",
    "    'region_name': 'Southern Metropolitan',  \n",
    "    'property_count': 5000,\n",
    "    'suburb_freq': 0.0123    \n",
    "}])\n",
    "\n",
    "# Reorder kolom agar sesuai dengan urutan fitur saat training\n",
    "df_user = df_user[feature]\n",
    "\n",
    "# Prediksi\n",
    "y_pred_inf = model.predict(df_user)\n",
    "\n",
    "# Tampilkan hasil prediksi\n",
    "print(f\"Prediksi harga: {y_pred_inf[0]}\")"
   ]
  },
  {
   "cell_type": "markdown",
   "id": "01f83d00",
   "metadata": {},
   "source": [
    "Prediksi harga rumah sekitar AUD 1.398.202."
   ]
  }
 ],
 "metadata": {
  "kernelspec": {
   "display_name": "base",
   "language": "python",
   "name": "python3"
  },
  "language_info": {
   "codemirror_mode": {
    "name": "ipython",
    "version": 3
   },
   "file_extension": ".py",
   "mimetype": "text/x-python",
   "name": "python",
   "nbconvert_exporter": "python",
   "pygments_lexer": "ipython3",
   "version": "3.12.7"
  }
 },
 "nbformat": 4,
 "nbformat_minor": 5
}
